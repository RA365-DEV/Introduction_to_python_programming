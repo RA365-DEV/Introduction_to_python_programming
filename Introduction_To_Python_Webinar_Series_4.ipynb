{
  "nbformat": 4,
  "nbformat_minor": 0,
  "metadata": {
    "colab": {
      "name": "Introduction_To_Python_Webinar_Series_4.ipynb",
      "provenance": []
    },
    "kernelspec": {
      "name": "python3",
      "display_name": "Python 3"
    }
  },
  "cells": [
    {
      "cell_type": "markdown",
      "metadata": {
        "id": "eIdbvxRUXmIf"
      },
      "source": [
        "**Solutions to Excercises**"
      ]
    },
    {
      "cell_type": "markdown",
      "metadata": {
        "id": "Vjr-B4OmaR5h"
      },
      "source": [
        "**(1)** Morse code is an encoding scheme that uses dashes and dots to represent numbers and letters. In this exercise, you will write a program that uses a dictionary to store the mapping from letters and numbers to Morse code. Use a period to represent a dot, and a hyphen to represent a dash. The mapping from letters and numbers to dashes and dots is shown in **table below**.\n",
        "Your program should read a message from the user. Then it should translate each letter and number in the message to Morse code, leaving a space between each sequence of dashes and dots. Your program should ignore any characters that are not letters or numbers. \n",
        "The Morse code for Hello, World! is shown below:"
      ]
    },
    {
      "cell_type": "markdown",
      "metadata": {
        "id": "CD1gu78taYbJ"
      },
      "source": [
        "![image.png](data:image/png;base64,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)"
      ]
    },
    {
      "cell_type": "code",
      "metadata": {
        "id": "tvofrjN-tN60"
      },
      "source": [
        "# Structure the data in the dictionary\r\n",
        "dbase = {'A':'.-', 'B':'-...', 'C':'-.-.', 'D':'-..', 'E':'.', 'F':'..-.', 'G':'--.', 'H':'....',\r\n",
        "         'I':'..', 'J':'.---', 'K':'-.-', 'L':'.-..', 'M': '--', 'N': '-.',\r\n",
        "         'O':'---', 'P':'.--.', 'Q':'--.-', 'R':'.-.', 'S':'...', 'T':'-',\r\n",
        "         'U':'..-', 'V':'...-', 'W':'.--', 'X':'-..-', 'Y':'-.--', 'Z': '--..',\r\n",
        "         0:'-----', 1:'.----', 2:'..---', 3:'...--', 4:'....-', 5:'.....',\r\n",
        "         6:'-....', 7:'--...', 8:'---..', 9:'----.'}"
      ],
      "execution_count": 2,
      "outputs": []
    },
    {
      "cell_type": "code",
      "metadata": {
        "id": "NOPDUIk-1Xvf",
        "colab": {
          "base_uri": "https://localhost:8080/"
        },
        "outputId": "5e4b7dfe-4e73-4b7b-e65c-691b6c31983e"
      },
      "source": [
        "# Receive data input\n",
        "print('Please enter', 'YES', 'for number or', 'NO', 'for string')\n",
        "choice = str(input('Answer: ')).upper()\n",
        "if choice == 'YES':\n",
        "   number = []\n",
        "   number = int(input('Enter a digit: '))\n",
        "elif choice == 'NO':\n",
        "  word = str(input('Enter any letter or word: ')).upper()\n",
        "else: \n",
        "  print(' Your decsion is not among the available choice.')"
      ],
      "execution_count": 3,
      "outputs": [
        {
          "output_type": "stream",
          "text": [
            "Please enter YES for number or NO for string\n",
            "Answer: Yes\n",
            "Enter a digit: 3\n"
          ],
          "name": "stdout"
        }
      ]
    },
    {
      "cell_type": "markdown",
      "metadata": {
        "id": "uSjdNCOh9fEc"
      },
      "source": [
        "**Solution for Numbers**"
      ]
    },
    {
      "cell_type": "code",
      "metadata": {
        "id": "xYP6lQ3j9aHV",
        "colab": {
          "base_uri": "https://localhost:8080/"
        },
        "outputId": "add1fea0-b9a5-4ce7-e95b-4e4359a22b30"
      },
      "source": [
        "#Search and display the morse equivalent\r\n",
        "if number in dbase: \r\n",
        "    print(dbase.get(number), \", \")\r\n",
        "else:\r\n",
        "    print('The value is not in the dbase')"
      ],
      "execution_count": 4,
      "outputs": [
        {
          "output_type": "stream",
          "text": [
            "...-- , \n"
          ],
          "name": "stdout"
        }
      ]
    },
    {
      "cell_type": "markdown",
      "metadata": {
        "id": "DPQnH6XT9bb_"
      },
      "source": [
        "**Solution For Strings**"
      ]
    },
    {
      "cell_type": "code",
      "metadata": {
        "colab": {
          "base_uri": "https://localhost:8080/"
        },
        "id": "HqMo2USx0wm0",
        "outputId": "6009a69f-3c98-4a0d-c0ad-caddadb46c6d"
      },
      "source": [
        "#Process string data\r\n",
        "input_list = []\r\n",
        "for char in word:\r\n",
        "    my_char = char\r\n",
        "    input_list += my_char\r\n",
        "print(input_list)"
      ],
      "execution_count": null,
      "outputs": [
        {
          "output_type": "stream",
          "text": [
            "['7']\n"
          ],
          "name": "stdout"
        }
      ]
    },
    {
      "cell_type": "code",
      "metadata": {
        "colab": {
          "base_uri": "https://localhost:8080/"
        },
        "id": "nzd5953Hs8gZ",
        "outputId": "03687046-1467-4395-d868-ab3e054a4df8"
      },
      "source": [
        "#Search and display the morse equivalent\n",
        "for i in input_list:\n",
        "   if i in dbase: \n",
        "      print(dbase.get(i), \", \")\n",
        "   else:\n",
        "    print('The value is not in the dbase')"
      ],
      "execution_count": null,
      "outputs": [
        {
          "output_type": "stream",
          "text": [
            "The value is not in the dbase\n"
          ],
          "name": "stdout"
        }
      ]
    },
    {
      "cell_type": "markdown",
      "metadata": {
        "id": "OSI2Dyv_1eYk"
      },
      "source": [
        "# **INTRODUCTION TO PYTHON PROGRAMMING LANGUAGE**\n",
        "These introduction to python series is organized by Renewable Africa 365.\n",
        "We will be talking about the following:\n",
        "\n",
        "\n",
        "1.  Introduction to python language\n",
        "2.  Iterables and Data structures\n",
        "3.  Functions or method definition\n",
        "**4. Object Oriented Programming in python**\n",
        "5.  Introduction Python Libraries For AI\n",
        "6.  More Python built-in Functions \n",
        "\n",
        "##  **Object Oriented Programming in python**\n",
        "    I) Introduction to OOP\n",
        "       i)  What are Classes?\n",
        "      ii)  Function of a Classes?\n",
        "      iii) Terminologies in classes.\n",
        "       iv) Fundamental structure of a class\n",
        "    II) More on Python Classes\n",
        "       i)  Defining classes\n",
        "       ii) Class intrinsic attribute\n",
        "      iii) Comment in classes\n",
        "    III) Class Inheritance\n",
        "       i) What's Inheritance?\n",
        "      ii) Class Inheritance\n",
        "     iii) Composition verses Inheritance\n",
        "      iv) Multiple Inheritance\n",
        "\n"
      ]
    },
    {
      "cell_type": "markdown",
      "metadata": {
        "id": "G-aOsAyjL_XO"
      },
      "source": [
        "##  **I)  Introduction to OOP**\n",
        "    "
      ]
    },
    {
      "cell_type": "markdown",
      "metadata": {
        "id": "sOjqOv4T3sH1"
      },
      "source": [
        "**a) What are Classes?**"
      ]
    },
    {
      "cell_type": "markdown",
      "metadata": {
        "id": "ztOHdqp9MH-8"
      },
      "source": [
        "A class is the instance of an object. A class basically contains a attributes (data) and a methods (functions). \n",
        "The description of data is supported by classes and provision of methos to manipulate the data."
      ]
    },
    {
      "cell_type": "markdown",
      "metadata": {
        "id": "zH2ktN95CJDt"
      },
      "source": [
        "**b) Function of a Classes**"
      ]
    },
    {
      "cell_type": "markdown",
      "metadata": {
        "id": "L08rMx6yCp4I"
      },
      "source": [
        "The fundamental function of classes are as listed below:\r\n",
        "\r\n",
        "1. Classes are used to create instances.\r\n",
        "2. Classes are utilized to define instance of a method. \r\n",
        "3. Classes can also be used to define attribute that store data within an object."
      ]
    },
    {
      "cell_type": "markdown",
      "metadata": {
        "id": "0oqud0jPCUV6"
      },
      "source": [
        "**c) Terminologies in classes.**"
      ]
    },
    {
      "cell_type": "markdown",
      "metadata": {
        "id": "u8SiBAjaC95h"
      },
      "source": [
        "i. **Class:** A class defines the constitution of data and the behaviour that function the data.\r\n",
        "\r\n",
        "ii. **Instance or Object:**  Its simply a sample of a class. \r\n",
        "\r\n",
        "iii. **Attribute or Field:** This is a representation of the data held by an object.\r\n",
        "\r\n",
        "iv. **Method:** A methos is a function declared to perform a specific task.\r\n",
        "\r\n",
        "v. **Message:** This is an instruction to an object for a task to be performed.\r\n",
        "\r\n",
        "**NB:** In python, everything is treated as an object."
      ]
    },
    {
      "cell_type": "markdown",
      "metadata": {
        "id": "-kTP9ELvf6Ye"
      },
      "source": [
        "**d) Fundamental Structure of a class**"
      ]
    },
    {
      "cell_type": "markdown",
      "metadata": {
        "id": "MdMfiH0TEUWx"
      },
      "source": [
        "![image.png](data:image/png;base64,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)"
      ]
    },
    {
      "cell_type": "markdown",
      "metadata": {
        "id": "qVr2y40aEs4z"
      },
      "source": [
        "**class:** A keyword that introduces a class.\n",
        "\n",
        "**nameOfClass:** The declared name of the class also known as identifier.\n",
        "\n",
        "**SuperClass:** SuperClass are list of parameters or the required variables requested from the function callers.\n",
        "\n",
        "**init:** Its a unique method (constructor) that initialize the class.\n",
        "\n",
        "**attributes:** The block of code, which is also called statement.\n",
        "\n",
        "**methods:** List of functions declared for a specific task."
      ]
    },
    {
      "cell_type": "markdown",
      "metadata": {
        "id": "eFu0VM-ATVK9"
      },
      "source": [
        "##  **II)  More on Python Classes**\n",
        "    "
      ]
    },
    {
      "cell_type": "markdown",
      "metadata": {
        "id": "aWr9dPVCUJi7"
      },
      "source": [
        "   **a) Defining classes**"
      ]
    },
    {
      "cell_type": "code",
      "metadata": {
        "id": "y4ZIkl6hN_6W"
      },
      "source": [
        "class Person:\r\n",
        "    # Class constructor\r\n",
        "    def __init__(self, name, age):\r\n",
        "        # Object properties\r\n",
        "        self.name = name\r\n",
        "        self.age = age"
      ],
      "execution_count": null,
      "outputs": []
    },
    {
      "cell_type": "code",
      "metadata": {
        "id": "dL5bO9suPMy9"
      },
      "source": [
        "#An instance of a person\r\n",
        "mike = Person(\"Mike\", 30)"
      ],
      "execution_count": null,
      "outputs": []
    },
    {
      "cell_type": "code",
      "metadata": {
        "id": "LZVCLVD3QGVe"
      },
      "source": [
        "#Two instance of a person\r\n",
        "john = Person('John', 36)\r\n",
        "phoebe = Person('Phoebe', 21)"
      ],
      "execution_count": null,
      "outputs": []
    },
    {
      "cell_type": "code",
      "metadata": {
        "colab": {
          "base_uri": "https://localhost:8080/"
        },
        "id": "9LQetjjxPVZp",
        "outputId": "bc5b6bd5-0887-4b07-f366-35ecb8a7e713"
      },
      "source": [
        "#Object memory location\r\n",
        "print(mike)\r\n",
        "print(john)\r\n",
        "print(phoebe)"
      ],
      "execution_count": null,
      "outputs": [
        {
          "output_type": "stream",
          "text": [
            "<__main__.Person object at 0x7fe329a858d0>\n",
            "<__main__.Person object at 0x7fe32915eb70>\n",
            "<__main__.Person object at 0x7fe32915ec50>\n"
          ],
          "name": "stdout"
        }
      ]
    },
    {
      "cell_type": "markdown",
      "metadata": {
        "id": "RotVwXYYRGIn"
      },
      "source": [
        "   **b) Accessing objects of a class**"
      ]
    },
    {
      "cell_type": "code",
      "metadata": {
        "colab": {
          "base_uri": "https://localhost:8080/"
        },
        "id": "Hq1geK09RZiH",
        "outputId": "91ede1d7-5051-4d38-9339-eaf6cce5fc1b"
      },
      "source": [
        "print(mike.name)"
      ],
      "execution_count": null,
      "outputs": [
        {
          "output_type": "stream",
          "text": [
            "Mike\n"
          ],
          "name": "stdout"
        }
      ]
    },
    {
      "cell_type": "code",
      "metadata": {
        "colab": {
          "base_uri": "https://localhost:8080/"
        },
        "id": "jrnvz30EPs17",
        "outputId": "4d316af7-60fb-47da-d1cc-83e75cb96fa2"
      },
      "source": [
        "print(john.name, 'is', john.age)"
      ],
      "execution_count": null,
      "outputs": [
        {
          "output_type": "stream",
          "text": [
            "John is 36\n"
          ],
          "name": "stdout"
        }
      ]
    },
    {
      "cell_type": "markdown",
      "metadata": {
        "id": "ZsZJjuw6Nvh_"
      },
      "source": [
        "\n",
        "\n",
        "   **b) Class intrinsic attribute**\n",
        "   "
      ]
    },
    {
      "cell_type": "markdown",
      "metadata": {
        "id": "wOOw1bI_ZyDO"
      },
      "source": [
        "Class intrinsic attribute are predefined components in python, meant function with python classes.\r\n",
        "\r\n",
        "There are two intrinsic attributes: \r\n",
        "\r\n",
        "* Class attribute \r\n",
        "\r\n",
        "* Object attribute"
      ]
    },
    {
      "cell_type": "markdown",
      "metadata": {
        "id": "AaoOjgEmaX01"
      },
      "source": [
        "![image.png](data:image/png;base64,iVBORw0KGgoAAAANSUhEUgAAAqwAAAD+CAYAAAD/G1flAAAgAElEQVR4nOy9309bV/rvv/6AfeNLLpAiWZa4qBRFFhdEUQUXiVLxFUSNEEoTWVD184FopoJOFUirQEcTaNU4mtRoGjJn4vMZOJmM08FiPiGduD3QGZwK0ql7YpSgjNPEHWjjNFBSOE4OBDv79b2wDcZse2//AEyyXpIvMNtrr/WsZz37vfd+1loCiUQikUgkEomkiBFbXQGJRCKRSCQSiSQTUrBKJBKJRCKRSIoaKVglEolEIpFIJEWNFKwSiUQikUgkkqJGClaJRCKRSCQSSVEjBatEIpFIJBKJpKiRglUikUgkEolEUtRIwSqRSCQSiUQiKWqkYJVIJBKJRCKRFDVSsEokEolEIpFIihopWCUFZInZyUmmF9Wtrsjzgxpm2vcFQ4OfcX0qTPaWLYY+UYnMBvgq8FMO9ZdIJBKJRApWSSFQ7zN6+k1qrCUI0YQ7FNnqGj0XqOEJnK830XWxH7ttF0JYOTo0bUz0FUWfLDA58D5v1lhRhMBs9yE9QyKRSCS5IAWrJEdUIg/+zfcrT+6mcdvMUrAWjHl89v0Im5sQoD4ao+doO07/zxl+U4x9orI03s0OKVglEolEkgdSsEpyIxLE3dyWJISKQRw9R0T9OHYpK4LVEEXaJxGfHbMUrBKJRCLJgwIL1ijh6Zv4fDcIzC4VtmhJ8aD+jL+nDmWNECoOcfTcEHJjE8K4YC3iPpGCVSKRSCT5UjDBqoZvM9j5KmYhEEIgRBk13cOEIsU8zSLCrP8z3G43bvdn+GeXicz4ueLswW63Y3f8kSv+h5oXWTU8hW/EjdNhjx1rP4fLe49wcnMXg3gH3bjdlxn1+/mivwe7/Q9cCcyjRu4zfqEHu72H/i/urv0dKpGZCTwXeuNl9+B0f0kwHN1YcxhiAb/jAIoQCGGhsu4ItsbfMb7w3Yo4Ggjc4FJ7bcwXzAfpHvl+rQ3VeQKD3dRXVmA1Kyjlb/CR59sUG6SyxGzgS4acXTRV1WAfu82o4w3KFYEwv0rn0LcsJooP3+RSxxvYWn/DqRMNVO1t5dzY/Xgdksspx/bnr/Bf6qLeWrLqs8vzBIbsNJSXIEQJ5c0XuJVs+5zqv9qO0Nh5jtXXUW97jWrrTqqaf8tQYD6emzrHuOMX2Ooq4/arpM5mi9v4WZH1SVKbxvs4Yaun3naQSksF9V1/JRC3mZZgzdxHAFHCgUE6DzXSduokx2yHaWo+zWczUZ3/SSQSieR5pDCCVZ3ja3tt/IKZ/Cllr+MbnhTkJBvBIgFXO7Yj1ViVXfxHRxs15jKqmt7jrPP32FtqMCsHcPgX1v5s6WvsO0ux1vyCzrP9DLgHcJ3/DbZyC1Xv/Z2ZxEX+kRd7w0EqzQpClFHd+gEfnajHUtbIibdrqGjo4uyZX1Cp7KVrfC5ROKHRM9RbSim3vcMpx1l6HR/S0bQPs+Uw9tEfiuApldaTu8R3O6myvct5zxi+sU/oqCpFmI7ivr8cPy5MoP+XHOj+Ow8jKkSmGGqtQIgqOr0zGSYULTEb8OJs2okQJszlTTiuapzj2T1cr1kQtf0EVYA5vB0ViLJf4114Fi/nnwx1VSOEgrmqhZ7LXm74rzPUdQBFWDnS/Bbt5//Gdb+fr/pbKRMmdjtu8DSv+gMsMuVuwVJ+Ak8o/gYiEsTdbEVYmugPhFcPzfYJ65b0SbxNl9uoqP0YfzgmJuc8xygRCmUdoyygIVh1+wh4egPH7j10eOPjInIXV0MT/cGlzP+TSCQSyXNJYQTrwghtJaliNf4pfQ/v42J+ygpEfNjNAqXyGK7J+dULtPoDQ8072eXws/bZzVPmf36y7kKu3nfTaKqldzJZok/jtr1Elf2r2NMq9Vv6a0sxHbrA3WWVxMU6djFXWb7norGsms7hlCdgLDEzdoaakkb67271LUAmcXQIZyBRvyWC/YcRwkrbyCwAz+71c0A5nCQuViflKIdcTGV0lTA+eyVC7KFrfD7+3SIBZ93qd9HbOPeXJpW1zLSrESEqsfsSgjBCyN2EEGZs7umV0hPCakfXOCvS57GXjlKBqHcxreZX/5h/mNjTezPJn1SWJ8+xVwiUA/3cSzxELahg3bg+ibVpF62eB6vj4ck3OPaWUWW/ThgNwWqkj0JubGIHtc5JYrI6woznDOf8jzP/TyKRSCTPJYURrImLq+ZnG+Q0RnzYzcmCJkFMIGnm3qlhpq5/xqDbHU8p+Cuev/+RltLUcqZx26xJwmie8a49SWXGBFfs758Z76qkpNXDnKZImGWkrSJF8GwFmcRR8nepwjAulhQr1Uds2Gwpn1+6CGRsWEKw6otPANQFgt6LdNXvzEqwrunv+M2MMNvxRfKpf5SZoTdRtOqZmGAlkkRjQQXrRvVJhJC7GUU04ppeTndQ5hzWdH30dILefaWxNI3OT/DPJD09zfQ/iUQikTyXFEawPr2BY7dJU7CueWpUrGQlWFUioWG6a8oQ5krqWzo4Zf+AjpbX43mHeoI1tcyYgIj9nRAY6cR/7LP1k1dyFUdxwVnyDiNp8zEzYVCwqvMEhk5z9OgpBsbvEhhoKpBgzaf+j/E79msL6xXbpT5h3AzBmk+bEv2R+aZU0666fZQ0zkQ8T3nwdjynNtP/JBKJRPI8UqBJVxFmRrupUlLElVJN99hs8e9uk41gfXYP12tllLX8hbupk6A0y8lesJa29HPd58OX5jMxncuOR4UkT3EkqnH4U20NavghDzJOLDMgWCPfM9z5CqZaJ4FlNen/BRSsOdU/8do7NSUg2XZ1OAPxqWObLVhzalPitxWr+aQarLOroT5K/Pg+4852qs0KQuyi0XWHZSP/k0gkEslzRQGXtVpixneJ7qZ9mBUrNS1nkmY+FznZCNaZIZqU5BzKBFHC/o+pUfIRrEvc6z+SdCEvVnIVR4nX4gpl7cNr0x4i03jeeS9pIpAWeoJ1iiWfnZ1rRGf2OazpBWs+9Vd56u9ht1ZeqPodrvodiN09+J/G/7FpgjWfNkWZ87yNSShYmt1MJa8IsnwH1zEn/qdqil1VY30U+ivvOG/zLG67SOgq7eUmxJ5eJr/P8D+5UIBEIpE8l8iNAyA7wfr0Bo7dFmp6fKuvICM/4ut/m0qzGXNeghXUR9foriqjqt2VkpsXJTx1HXdPO2/1397iJ0k/4mnZiRCv0jv5GDX8L65NfMOAzYxYk8+4Xhiqj/5BZ7kpln/Y0cfw+Nf4xv/G+ZZ6Xtd9QqYlWBNix4zN/R0LI+9QIgQmWx//Ci8TDn6Ovc4Sn5T1kAfBEIs6grW0w8vK9J2lcbp2JARrnvVXQ4wcr0SIfXSPz8Vv5lSW717gkKmS4yOh1Ru8rAXrFvXJk29w7C1FiBLKmxxc9l5nfPhPdB06vPJ2Za1gfWasj0JubFU9+FN27TK1eJjL9D9DtpJIJBLJduMFF6yJvMKkNIZdDvxRiPod7FqTO7ofh/8xECV86480WJTYGplHqrEqCuaaXzN463NOmZPKCQ3RlJQmoTQNMbMiuhJ/JwRE4twqkZmvcLbuxywUzJUH48tuCYRSTt2J36ddG3bziPJo7FQ8BUTBYnuP8/+rh5ZyE0JYqOu6iDf4Y2wyTZ0FIUyUt5zlin8GlSjhWxdoLi9JSh3ZS6vrpk4O4mON8oLcTf1ubJi+hl0kllWrbP0TY5dPUCYEQnmFzuHbBLwu7LbYMaa6Lv7sDTDl/xt9HQcwCYGwNuO4dI27Uze40ttCuRAIUz1df75GcDGSY/3jRH5g1H4Yi7mWtt6LDPR9QMPehqTlyh4T9A6u1sV0gI6+AT716y0vtRV9AuvySdes8xpry/m2/bEl78pb6HVfI/joFv0Z++h7IiE3NlFKZcvvcA8Pc7Wvk/oDHzISWoqL+TT/k0gkEslzyQsuWPMgMkvg+ghXPF58gdkNEJAqkdk7+Ma/wDMyhm9iusgmlcTq902ubVfDTE/48PnuMFvozSXUMNMT3yTl+i4xG5go7O5redZfDU8z4fMVuF+3sk+WmA3cMP5bo30UmSXg82mPsUz/k0gkEslzRfEL1rAflz2xm5SBz9lezmZzvMvP+qkm24Bs7HLMjBBmjj3vNpFIJBKJRPJcUvyCdWV7U2OfwatXuZrN8d7gypae24ps7NJ3gpqaE/Q97zaRSCQSiUTyXFL8glUikUgkEolE8kIjBatEIpFIJBKJpKiRglUikUgkEolEUtRIwSqRSCQSiUQiKWqkYJVIJBKJRCKRFDVSsEokEolEIpFIihopWCXbhCVmJyeZXiyq3RMKRJTw1C0CP2W7/L1KZDbAV4GfdHbBygWVyPw8jzfc3NptUMP3uOYZIxiOJn1brD5QAFupYaZ9XzA0+BnXp8Ib0J9bjbG+0+73wpVf+PMWOxsZI7TINZZtdFmS5wEpWLeS+E49X18P8FO+0SSx64/vn/inHxekekWBep/R029SYy1BiCbcoecpeC0w6erEVmlBiErsPqPbNSwwOfA+b9ZYUYTAbPcVdqcndZ7AoJ3jPf8gVOhdyFbI1IYnTPbWIoSJPb03iT6ZZOC9/6DKrBSpD0QJ37rI8eMXuZWD4FHDEzhfb6LrYn98y2ArR4emnw/RmtX4Ten3gpdfwPMWPRscI7TOl1Ms2+iyJM8TUrBuOipL493sSOy7LgTCbMeXazSZ89BiSipLmLG5pwta481HJfLg33y/8rRkGrfNXKRiJV8SF8tsA/OqHxX0YqTOc8v5Sw71+DZhK+B0bYgJwPbGE1y4NR8Tbup3uOp3FLEPqESm3ByttTP2KBvJM4/Pvh9hcxMC1Edj9Bxtx+n/eaMqugUYHb8a/V7Q8rM9b2oc2m5sUIxIS66xbKPLkjwvSMG6xUR8dsz5CNY1TOO2Wbe/YI0EcTe3JV18nmfBGiHkbsopMEd8dswFvRhFeOhp56VaJ4HlzblIG2/DdvCBCA89x9nd7GbK6JPpqB/HLmVFsD6fbHTfbVD56+LQ9qPwMSLj2XKOZRtbluR5ocCCNUp4+iY+3w0Cs0uFLfo5RQrWFNSf8ffUoay5+GwHsZIrxSNY1blh2sustHoebNrr6OdLsAJPb+DYXWH8lX7IjU0IKViLrXzNOLT9kIJV8jxRMMGqhm8z2Pkq5pVX02XUdA9vYA5cAVgM4h1043ZfZtTv54v+Huz2P3AlMI8auc/4hR7s9h76v7ir8XpUJTIzgedCL3a7Hbu9lwueCWbStneJkO+/cTrs2O2/pffCZ/hnlpIE62OC3su43W7cg9cIrryGUlkMXmPQHaunN5gpP9WIYE2tdw9O95dFMtlgAb/jAIoQCGGhsu4ItsbfMb7w3coFaSBwg0vttTE/Mx+ke+T7tYFYnScw2E19ZQVWs4JS/gYfeb7Veb29xGzgS4acXTRVlWP781f4L3VRby1Z9ePleQJDdhrKSxCihPLmCyn5ikuExs5zrL6OettrVFt3UtX8W4YCqa82lwiN/YGWmhrqbIepsx3H3lYdC8xfT3HLfZrWBhu2hjN4H0VheQqvs5uWBhs2WzuuwOJKSZoXo5zaD/CUKdfrKKa38cxp+ULm9qnhe3hdH9FaXcup4Wv0N+9BUV7mravfZxRumm2IzDA5chF78z6sK98nREkjztErfNSwG0UIFOthugZvr7QvUz2ehW9yqeMNbK2/4dSJBqr2tnJu7D6RjL8LcHfofZpsNmy212np+gT/z1FAZXnqf3O69XVszXY8U4l+mWe8aw9idw/+p5laPse44xfY6irjvlxJnc0W9/dnOvbU87VC+HMqi0x57DTbbNhsR+m4cIOf1Z/wOU/EbXOUjt+PMr2swvIUoz3tNNha6BmfRU0SlBnHr2a/x31vvI8TtnrqbQeptFRQ3/VXAiv1NVh+WidMPW+6OPRsA2wDaga/jBElHBik81AjbadOcsx2mKbm03w2ox+ztQWrsVilX68MsSxZZBqKSQbLkrzQFEawqnN8ba+ND/DkTyl7Hd/wpCAn2QAeebE3HKTSrCBEGdWtH/DRiXosZY2ceLuGioYuzp75BZXKXrrG55J+uERo+CRVioWqphPYz/Zy1n6CpqoyzDUfMhJKeboc+Z7hzldQzPto6vgAu/0UXcfqsZYd5v2TjZSa7fgiM3jtzfELWPJdfZRH3jM02A5SabboiFE9wbpEaPQM9ZZSym3vcMpxll7Hh3Q07cNsOYx99IdNuAvXQ+tpSeK7nVTZ3uW8Zwzf2Cd0VJUiTEdx31+OHxcm0P9LDnT/nYcRFSJTDLVWIEQVnd6ZDMJpidnAPxnqqkYIBXNVCz2XvdzwX2eo6wCKsHKk+S3az/+N634/X/W3UiZM7Hbc4CkAi0y5W7CUn8CT6PtIEHezFWFpoj8QXjlPaPgkVS8dY+h+7Dg17KOnZsdqYFa1cjVnGWmzrgve6y9GubYfUIO4DpkR+5wE1l2Xddp3+w6+QScd1TsQwoSl5l3+0HeSeouZA/13SHeZT9uGkQH6OmpTJoskfEDBXN1Gr2uAgb6T1FsUhKjgLc99VPVB+nr812X+9JoFUdtPUAWYw9tRgSj7Nd75+5nrrz5kpH03QuxKefo8y0jbXhrdU0nfJZ4M7cXuW8hk8RhaT1gztaN/gu90fS1ff06DOoW7sQwhDtMfjJ97eRJn7Q6EaMQ1vbxyaHSyl5cPuZhSk/su0/hN1++LTF1uo6L2Y/zhKBBlznOMEqFQ1jHKAkbLT4eevxl8wpqrbZ7dw5XOLxMC+ekNHLv30OGNX4Mid3E1NK2eJwPrx5fBWKVbLwOxLGFf3ZhktCzJi05hBOvCCG0lqWI1/il9D+/Gr42TB9O4bS9RZf8qdsenfkt/bSmmQxe4u6ySGKirA17lib+HvaaD2McerBV4kQeM2Q9i2tuD/0mizbG7dVPVSYbXCNko4XuDtJWb1k66CrmxaQZJI09PMx2jsnzPRWNZNZ3DqU8dlpgZO0NNSSP9d7f69iKTYD2EM5Co3xLB/sMIYaVtZBaAZ/f6OaAkXTCSJh0oKxfPdCSExtpJa4mAv6NrnJXee+ylo1Qg6l1Mq6Ded9NoSp1hrLI8eY69QqAc6Ofes8Qr95IUYZA6uUCr/WF89kpdwZpX+xNjWOPVtLH2JepYsXphNUC6V5brv0/YJbl9URbGP6RCiCShnaYe0ds495cm2WGZaVdjkk0z1V9lOeCkVhGYGt3cXxnaI7SZ32Ek5clbrO6l1PZ/q58WkDYlQLs+Rn0tH39OzzMWvL+mTJSwz3k7fiMS4eFQCybxEs1DP8Tbu0jA+XrS38bGb3L9Ev0ea2/KjcKTb3DsLaPKfp1wluWnI72/GU0JyNE2un5J3Ed2UOucZDle7oznDOf8+qvBaNvTgP/o1MtYLDMWk4yWJZEURrAmgq7mp9hzgFJFXuyVXvIdacBZl/T3LCNt5bzUNab95PjJGF0vla8GyYUR2krKaR/ResK1zH33UUybIlh/ZryrkpJWD3OaF6VZRtoqimBZl0yCNfm71Aty/AKlWKk+YsNmS/n80kUgY8MyX+DXvrL2YTcnVneIMjP0JorW6gyJCTXiMP3BJ8x53sa07gKamquVq2DNs/1phZPR9v2kWUc9shesKWMjepPePaak77VttQZ1gaD3Il31OzUEa5rfrTxl3Y/dNw88Y2HkXawacSCrvEFdwZpcH6N9sUTu/qxT3yf/xF5hSkp5WOJe/5FYekZC3Dy9geOVk6tPCA2NX636RQi5m1FSnlCux3j56chfsOZqmyQ0/RJ4OkHvvtJYOkfnJ/hnjM8PWduubPwnU73mDcYyIzEparAsiaRQgvXpDRy7TZqCdfWOv1hJFXmxC8Vq4IoNnJW/ozfp3VOWIQhO47ZZ2OXwEwWifge7MgS9ZwEn+zZFsCYCcLobi9hnc5LzM5GrYI1f4EvWP/EyRq4X+Mf4HfvTXBgT9a7E7nuQRhAVSrDm13512kW9pnDKt32ZyVuwrnvymkF4qvMEhk5z9OgpBsbvEhhItrue0FV56u9ht1Aoax9mTn2Ap/W1uHg11iZNshKsRvsizIYJVh4z2fvqqnB/8k/s+5vpeLsKoRyh/94iT8Y/oHKNkM9VsCZsoCcai0Sw5mQbdPwSQCUSGqa7piwWp82v0pmUt228Xdn4T6Z6GY1lRmJSunEnBatkPQWadBVhZrSbKiVFACnVdI/NFvkC2FkKVvVb+mtfot71nXa71O9w1ZetvBZ6FnCyT+uuNc66VQI2WLCWtvRz3efDl+YzMb3Vu+zkKVhFNQ7/+gCnhh/yIOOkklwv8IlXZVqLjifqXYczMBuvXxlNQ/c1zlsgwZpr+2eGaFK0hFO27dsiwboyWSzNBTCeR25aWbIrzcU145PZeJ6i8jp//uovNO8/x6TG8l+xuhtchD4rwWq0LxbZOMEK6pSLQ4pCWccw3w79iv29EzyePMdeYWK3w8PnHW+k+GC+glUvzaRYBGsOttH1y+RK3mfc2U61WUGIXTS67pDpufP6dmXhPxnr9cBgLDMSk+YNliWRFHRZqyVmfJfobtqHWbFS03JGY4Z0MZKlYCWM31G9NpctiViO0P7VJy9Pb+DYbUnKP0o+eI7x7n1rLxRzHlpM6wWuGv4Ke9VLeQjW2Osp0yausZkbuQrWxOuuxBOwpCIj03jeeU9n8kWuF/jEkzeNPFE1PoFqdw/+p4lXXyIlLcOIYI3PPM8oWPNsf+LV+soki5VGGGyfAcGnQd6C9dltnPtKKXvrKg9V0BZ6Kks+OzvXlJcuhzVT/VWe+E5TIUzstO7moOaEsnSvONOQlWA12hfJAqPwghX1B4aaX0KUVFH9SmvMrxKT9nZaKT+Y+lYtV8GasKWCJXVt2+U7uI45420tHsGanW2M+CUQ+ivvrOTFqkRCV2kvNyH29DKpc0e0tl3G/SdzveYNxjIjMWnRYFkSidw4gOwFK6gzf+e9qt00nLuetIyVSmTmOucayik//r+ZSRp4M6PdVJleoWPozuprnMhD/K53qbbsQEm+UERv0rtnJzbnzfixiXJ3GQi+mZ/Cqo+u0V1VRlW7KyUPKkp46jrunnbe6r+te9e+sfyIp2UnQrxK7+Rj1PC/uDbxDQPxJY1Wc9nWX5DUR/+gs9wUy/Xq6GN4/Gt843/jfEs9r+s+jch8AS3t8LIyxWFpnK4dSRd4NcTI8UqE2Ef3+Fz8Jk1l+e4FDpkqOT4Sii1fk6if8srqxLfId7ibdyJEKdX2T5mY/oGv7XsRooLWoSkiapgpby8NFgUh1uZCr5tQkVf7YzdimpMkDbWvkIJVa4ceLQERn3RlacG9sqyUVj2esTDyDiVCYLL18a/wMuHg59jrLAixh67xhzwIBhg1Uv/EzG/ldVxTWnPqYznvhlMzshKsGPa1vPxZl8RMfRMV9n/GX28nJhiVpayaAMlLkmUav5r9/uQbHHtLEaKE8iYHl73XGR/+E12HDie9vTNafjq0/E0rDv1k4AFMNrYx4pchFkNubFU9+FN2/jO1eNCb3rhufBnyHwP1+ud/0aIby8KGYpKxuLjVb/4kxcCLLVgTr0ET+bZNQ8ysXCgSfycCn0DscuCPwtqcIguVdYepq7SQfu3ZJUIjH1JjVmLrLR6pxqrE1j70D78fX7tWiee9Rgnf+iMNFgXFWs2RukrMooya7rOcOrgjnmrxJkPxNfhiObIZ8lJX6hyv98xXOFv3YxYK5sqD2I5UY1UEQimn7sTvueJ/uMU5rFEejZ2Kp5coWGzvcf5/9cSCo7BQ13URb/DH2CSAOgtCmChvOcsV/wwqUcK3LtBcXpKUlrKXVtdNnXyvxwS9rvg+7gJTXRd/9gaY8v+Nvo4DmIRAWJtxXLrG3akbXOltoVwIhKmerj/H18yN/MCo/TAWcy1tvRcZ6PuAhr0NKUuFra+fUtnCqbbqmP3bHHzif8jT0Od0VpWyup7xAAMnX44f8zGeez8S9A5yvm1/bCm58hZ63dcILkZybH+M2NsB7dd3Gdu3GMTr/jjeR6VUtf2egU/9zOraXKsNYYJeN70tL8fsU9XG+St+ZtUlQiOnqbeasdb9iu6zvZztbqG+4TSeewuxi1mmeixO0t+wi8Rye5Wtf2Ls8gnKEnZ6+T/5T0P1j00EKmkeij/RTTViENehsiSxkrn9K/5lOkBH3wCf+mdQ9eyp62sF8Gc9nozRtfNw0qx8YhNMd7Qw9DApgqgz+K+cNTB+g9zV7PeU/E0h1q6varj8dMu6PU7jbylxqOGPOuvU5mAbyOyXCQEXcmMTpVS2/A738DBX+zqpP6CxfOK6dmmNL4OxSrde/+aRbiwzGpONxEWdZfkkLwQvtmDNm9jOXuMjnzMyfpNpvYAWmSXgu8bIF+O6d4xqeJqJ8S/wjOgfmz0qkdk7+Ma/wDMyhm9iehP2jc+GWP2+CczmJp7VMNMTPny+O8xu8sYVaniaCZ8vs00T9ZuYJqyqRH76kZ9S6xmZJbCSUxwl/P2U8bbk3P4wt3oP8VLq67s1RRto34aS2E0vh3xrNcz0xDdJv1tiNjCR5a58P+HtOJBmN7D48lcVJ2ObPmwwW9sXSzy4M7Vu8fcHwRCL6X6S5/lmAzc2eUznGoeytI1Rv4zHBF+ucXHdaXX8x0i9jMSy5OMy9Z/RsiQvLMUvWMN+XHZ7fFcmA5+zvZzN5niXH5khk4K0+YtLJIi7uV5/o4EXFPW+m8Y9p/E90ZCrYT/nDjXQ4/9Z2k4ikUgKTPEL1pXtU419Bq9e5Wo2x3uDG/REYBsjbf5Co4Zv436vg5412zC+qKgsBi7xVv1h3uw4SVtdpUaOZmwbywtvtXPu6x+lzSQSiWQDKH7BKpFINh91nsDnY3xX1CtKbAZRHo28iyWey1fV+blGjnqURxNf4stiQXeJRCKRZIcUrBKJRJKReP5kgXIHJRKJRJI9UrBKJBKJRCKRSIoaKVglEolEIpFIJEWNFKwSiUQikUgkkqJGClaJRCKRSHNLoN0AACAASURBVCQSSVEjBatEIpFIJBKJpKiRglXygqASmQ3wVSB5P3Ct7zawBuF7XPOMETS6xeNWoYaZ9n3B0OBnXJ/S25Fto9u0xOzkJNNGtgstWjbXzzYPlcj8PI+3uFH5+eDG+te2GfOGKW5f3lx76/tOYeuzFbEwSnjq/+D77nGa/29uDJCCdWXLOB+TIbmc/fPHApMD7/NmjRVFCMx2HxHN7zaaJ0z21iKEiT29NynWy5cansD5ehNdF/vje9FbOTo0nebitIFtejLJwHv/QZVZQYgm3KHtuKDUVvjZJqHOExi0c7znHxrr0m4mOfqgep/R029SYy3ZQP/aHmPeGNvBlzfJ3oZ9p0D12YpYuKaNZmzu6TQHRgnfusjx4xe5tQk3CS+4YL3PUFMZQgiEqMTukxuGPp+oLI13s2NNoNX6rnDnizz4N9+vuROODez2xhNcuDVflE8nYB6ffT/C5iYEqI/G6DnajtP/c5rj07VJq/05oH6Hq37HNhassLF+tkWo89xy/pJDPT7tPeg3lXzG1TRum3kD/WuDx8emk48vb0abNyrGatXdiO8UsD7qVsTCRQLOOh3BCqASmXJztNbO2KONFa0vuGCNE/FhN0vB+jwT8dkxpwRare8Kc7Ig7ua27Seyon4cu5QVwZozBWv/RguKzWHD/GxLiPDQ085LtU4C234XtC3yr+0aH8jDl7dxm7Xrvtm+sxW+GiHkbjIgWGPHPvQcZ3ezm6kNfONSYMEaJTx9E5/vBoHZbbRNoRSszz2bJljVn/H31KFsR5EVcmMTIj/BWtD2S8FabKhzw7SXWWn1PCjStwTZsAX+tZ3jAzn68nZuc9q6S8G6jqc3cOyuyJBClj8FE6xq+DaDna9iFiL+ir2Mmu7hLc5vMkiSYFXD9/C6zmG327Hbz+Hy3tN87aWGp/CNuHE67LrHxn6wQND7Cb32+PEOJ+5rAaa+dvHxyBTP1h5MZGYCz4XeeNk9ON1fpk/czqrszUcN3+RSxxvYWn/DqRMNVO1t5dzYfQMBb4nQeB8nbPXU2w5SaamgvuuvBNbYYYnQ2HmO1ddRb3uNautOqpp/y1Bg7SsYw4JVnScw2E19ZQVWs4JS/gYfeb5N6dd09XqE33EARQiEsFBZdwRb4+8YX3gGkRkmRy5ib96HdU2w16v/ErOBLxlydtFUVYN97DajjjcoVwTC/CqdQ9+in3mtd445xh2/wFZXGRu/5krqbLbVuqdjXZsW0rR/mXBgkM5DjbSdOskx22Gamk/z2Yze66NEkG7EOXqFjxp2owiBYj1M1+DtlT7R969o5vMb6vMMttXxUS0/y1xnnfrq/l+vTQZ+r8lTplyvo5jexjOXfGwB7JtrH6zzwWzGy6oIGAjc4FJ7bdz/D9I98r3hmBC7ZnxEa3Utp4av0d+8B0V5mbf+28dNQ+PjmY5PZBsDDMTNHO2dvS9naHOudr36vbYgyssXtMjUXwZ8J23Mz2X8GYuFMYxdE/WPSxWsi0yP9dPV3IDN1kybvR/vdLIF5xnv2oPY3YP/6cbovsIIVnWOr+218Y5N/pSy1/ENTwpykg0k4sNuruDY2d/SYCmjqukEp+x27F1vUm3eQWWri8nkwb70NfadpVhrfkHn2X4G3AO4zv8GW7mFqvf+zkxqX6kPGH3vFUzlNjrO9jPg/gv9vd20VJdpJGQvERo9Q72llHLbO5xynKXX8SEdTfswWw5jH/1hrdDLquwt4Nk9XK9ZELX9BFWAObwdFYiyX+PNJIZYZOpyGxW1H+MPR4Eoc55jlAiFso5RFhLHuFuwlJ/AE4o/0Y8EcTdbEZYm+gOrT8yNCdYwgf5fcqD77zyMqBCZYqi1AiGq6PTOxAexXr207oTDBEYG6OuoTZmwYKT+S8wGvDibdiKECXN5E46rY/jGPqGjqhRhOor7/nJmOxq0UXZPWNO1SaP9T2/g2L2HDu9c/Px3cTU00R/UewuTKEvBXN1Gr2uAgb6T1FsUhKjgLc99VCP+lfH8Rvo8g211fVTDz/TqrGcvXXvqtCnX/lCDuA6ZEfucBJKHbt72zbUPtHwwm/GS8K+dVNne5bxH6ziduqkP8A066ajegRAmLDXv8oe+k9RbBMJ8jP9pZHzo+sT/y6JNRnwyd5/P2pfTtjlXu5o50H9H4yFMvr6QjnRPNvV8Zy5NfCTHeGggFgLG472R41IFa5TwrT6ONp7Gc29Bw08Sx+/F7ltY999CUBjBujBCW0mqWI1/St/Du9XrnugR8WE3C4TlP3CmJEerYT/n6nex136dhZV/PGX+5yfrOky976bRVEvv5FqJ/izgZJ9oxDWdMjjig3RH1zgxl1FZvueisayazuHvU55ALjEzdoaakkb6766Wb7zsLSJ6G+f+UpRDLqZUgGWmXY26k9xitty19tXjk29w7C2jyn6d8MoxqaJcZXnyHHuFQDnQz714ZDMiWJ/d6+eAcjgpcKxOMkjUX79e6V/dpJ7PeP3D+OyVCLGHrvH5+HGJhPjk79LZ0ZiNckkJWG9XjfaH3NjEDmqdk8S8NMKM5wzn/OmWSkmQKCu5T6IsjH9IhRAx4bRswL8ynN9In6fDiI9q2khvTOjZS+f/um26n2N/JOJ8qn/kad98+kDTvobHS8K/DuEMJGLqEsH+wwhhpW1k1mDdEuerWBUhaeuWJj7oxkljbTLik/nYO2tfTtPmfO1quH55xM50dV/7fXrf0a4POcZDA7HwmfF4b+y4ZMF6h9BoD63HL619eJdCrL2l1PZ/uyFpAYURrIkLneZnG+StRHzYzaXUOG9rvKZWeTL+Pi+ZWhh6mPRfNczU9c8YdLtxu9243X/F8/c/0lKqIcTmPLSY9tI5kvoaXGVxeoLrgdn49z8z3lVJSauHOc3enmWkrWKtkxkuuwhQFwh6L9JVv1NHsEYIuZtRtIT4ClFmht5E0cqvSUweShrc+oI1HmwUK9VHbNhsKZ9fughEjdTLqGDNpv6JoJtsMyP5RdnZaMME69MJeveVxtKEOj/BP2P0Firdxf0mvXtM679P519pz2+kz9O23IAvpLNRElp11rNXxv8baNP/y7E/0vlHXvbNpw/S2dfoeNHyr7UXaWN10zpfuroZyEXU9GMjbTLik/nZO2tf1myz0Tqkt6vx+uUaOxPoCdZ0vjOd3l45xUMjsXDJYLx/YvC4x/H2lPDykdeo2neOSZ2Jlhudr18Ywfr0Bo7dJk3BuuYJTrGiN+kq5Ma24vAqkdAw3TVlCHMl9S0dnLJ/QEfL6/EcQK1ylgiNfEiNWUGxVnPE1kBT20nsDieXPptgZiXPN+GU6cR/7LPWGYyWvYWo8wSGTnP06CkGxu8SGGjSCUKJIJPpZucxfsf+NEEnYcfVc+gL1vg5S95hJG2qgpF6GRWs2dQ/16CbnY02TLAmjxkRzx9bl3elhd7FIi62df0r3fmN9Hk6jPhCOhuhU2c9e2X6v5E25dYf6rSLek3/yMe++fRBjI0TrJMG61YgwZrRJ4y0yYhP5mfv7H1Zq81G6/CcCtacxp+RWDhnMN7/aPC4n+PtUdhh3oEirDS7gxmF6PYQrESYGe2mSkkRV0o13WOzxT+bNOLDbl59jJ9KLFDvx+F/HM/ZKaOs5S/cTX00rid8I7MErnkYdA/gcvZg7/oVddZSLEcvE1Ih4SylLf1c98U2M9D6TExr7D6kW/YWEfme4c5XMK0sg5MY1EYEa6ZXQYlXT1p5uolBV4czEEsKNyxYRTUO//p6qeGHPAjPG6iXUcGaTf1zDbrZ2WjjBGvi4PuMO9upNisIsYtG1x0yP5vUCdKmt/E8/Ldx/1p3fh9jun2e7nGT8deV62xkdEzo2Uvz/0b8OGqs/FRmhmhSMvhHTvadN17fNGy4YNWtWwEEq65PZCNYM/lkFv5hxNaGfDmNYM3DrobrV5SCNXF4NuPPQCycWzQY7/+vwePCq+3pu4yz3oJQ6ujx/5xW08Xau3FzZwq4rNUSM75LdDftw6xYqWk5ozErrUiJ+LCbFcrahzVexS8y5WrC9NL7jD9R40FbK/clStj/MTVK6uCKEPKc5DXHdY3JZypLPjs7lTcZmokCS9zrP5I0+HUrnkXZW0G8DmsGrJEc1ihznrcxCQVL6rpuy3dwHXPif6ry1N/Dbq28KzW+yHLSbEV9wZp4fa7hB5FpPO+8h/v+ooF6TRkUrNnUP9egm52NNi6H9a+847wdnyihEgldpb3chNjTy2RG10w3QeU2zn2llL31N6b/acC/0p6/h+FBvT5Pn5JixEfX28jAmNCzV8b/G/Djf17KrT8Srx9XJthQAPsuGhh32aZcFEqwBg3WLV/BaiROGmmTEZ+M5GXvrH1Zs81GYm1muxqrHwbtlokNEKw5xUO9WHiVh6rxeG/suOT2TBG5P0RrmYJInqi1hoT/pX/4ly9y4wCIC1YTZvNuGs5dX32Nri4QHOnBZqni+EgoJr6f3sCx20JN8i4vkR/x9b9NpdmMWUuwupsQpkPYh++mLOWywL+cr2OqOI3vSewf6qNrdFeVUdXuSsltiRKeuo67p523+m+vJGtnU/bm84yFkXcoEQKTrY9/hZcJBz/HXmchlvD+kAfBkPbSIk++wbG3FCFKKG9ycNl7nfHhP9F16PDqU3s1xMjxSoTYR/f4XPzmSGX57gUOmSpX+wxjk67UR/+gs9yEEGXUdPQxPP41vvG/cb6lntcTd7+69foRT8tOhHiV3snHqOF/cW3iJ1StXWIM118r6CYuDDpBNwsbZS9YtXa+0Wj/UA9Hqnrwr+wUEwu+phYPmZ9NagXp+EQDSwvuqSfG/Cvkxpbu/Eb6PB1GfJRUPzMwJkY/5JVM9srUHgz4sc7v0xPG76heP5E2T/saGndp0fJBo+Nldamg1ZzPtaLDWN3SCSuD42NihnldPw4waqRNBnwyH3tn7cvBEItabR520ZGzXTfCF9KRLp7r+07ancFyGn96sTB+FTUa7w0dl2qnKI+8JykXCpaGP2psxRqfzJZHeo8eL7hgTeT4CYSo5NTwWGw9NcVK9ZGDVJoVhPkgXVfuJInBKOFbf6TBosTWqzxSjVVRMNf8msFbn3PKHE+H2OXAH4WEE5teOcIbVZZ4nqkNm+01qq0lKOVv0p+6bd/MVzhb92MWCubKg9iOVGNVBEIpp+7E77nifxh3/mzL3gIWJ+lv2EVimbPK1j8xdvkEZUIglFc0VkNIkJLnI8T69REBIj8waj+MxVxLW+9FBvo+oGFvQ9LyX48Jegc537Y/tuxaeQu97k+5etWd8t01gosRwrcu0FxesnpOZS+trpvp8wfX1SvKo7FT8fSYxMBeIOh109vyMkIIlKo2zl/xM6sarf9FuuosCGGivOUsV/xB7q77LsNyNAZt1NdxAJMQCNMBOvoG+DRTmTxO0yaN9gcuYROlVLb8DvfwMFf7Oqk/8CEjmnfpySwRGjlNvdWMte5XdJ/t5Wx3C/UNScuqGPGvkDvD+aMG+jwder6g5XvXCD66lbnO57s5mMleGduDfpt0f5+hxffdNJpSXuXmbd9c+0DLB68xPmpgvNy4yY0rZ2kpNyGEhbqui3iDP2qMtQcsZKrbYhCv++N4OaVUtf2egU/9zKpZjI9wVMePzZT/5wlOGIoBRuJmLvbO0ZeHvyeiGROfZq5DWrtugC9kjHMadV94gF/Xd7ro7jrDx1oxP6fxZyAWJtCN9waOU2fwf9ofb4+CxXYKl/cuc/fctJabYt/Vn6TvSlKfqEFch8qosP9zw5YyfcEFqxYqkdk7+Lxf8MX4TabT5fNEZglcH+GKx4sv40z8KOHpCa4HfkKN7wT2tfczroyM6fwuXo/xL/CMjOGbmNYIJrmWvcmoYaYnvknKvV1iNjBhcDe0JWYDN/D57jCbYQKZGp5mwudLY6dc6uvTOWemesX67pss+qCg9d/Cc8TPpN3+yCwBny8H30zsoJcmf9uof2U6v6E+T4cxH826znr20vu/Xpty6o8wt3oP8ZJW+lS+9s2rDzaYgtYtzfjIK06mYsAnC9UmQ/XO1OYi7fMVso/nhshp/OnEwiSMxvvCXBdUlgNOaitO4n20cSmIxS9Yw35ciR2cjHzO9nI2m+Ndfoxlx2xjpA0lEkmhiARxN9cb2FhBIpG8CKhhP+cONWSckFUIil+wLgbxDibWOtX/DF69ytVsjvcGDWxtuc2RNpRIJAVEDd/G/V4HPYa2WJZIJM8ravgmF95q59zXP254LCh+wSqRSCSS4kOdJ/D5GN8ZWtFEIpE8f0R5NPElPsObweSHFKwSiUQikUgkkqJGClaJRCKRSCQSSVEjBatEIpFIJBKJpKiRglUikUgkEolEUtRIwSqRSCQSiUQiKWqkYJUUCVHCU7cI/LS6MIYavsc1zxjBdJs3ZEEhyyp+VCLz8zx+ESZvq2GmfV8wNPgZ16cyL6Qd87H/g++7x5tUuY1GJTIb4KvAT9t2PdTCjMvn39/zsVPxxz4tPy6Uby8xOznJ9OL2do70ffh8tM8oUrBmIr4TxdfXA/yUxh+ifge7RBlNQ/c3t27PDQtMujqxVVpS9nt+wmRvLUKY2NN7k/xCbSHLKnLUeQKDdo73/INQ0e4cUxjU8ATO15voutiP3bYLIawcHZrW2AnrPqOn36TGWmJw//BiZ4HJgfd5s8aKkrpP+baiUOMySvjWRY4fv6ixv/nzQD52KubYp+XHBfLtNWO+CXdoe46QGBp9+GSSgff+gyqz8hy0zzhSsK5DZWm8mx2J/Y2FQJjt+NL4Q8Rnx/xcXAS3ksSATBassYtQe+MJLtyaz/IuWyXy4N98v3LXmU9Z2wh1nlvOX3Kox7fBW69mQ2pfFIp5fPb9CJubEKA+GqPnaDtO/89pjl8k4Kx7TgQrJMep7StYCzkuVSJTbo7W2hnbwK0h8yeX8ZCPnYo99mn5ca6+nWrbadw2cxEIunR9btQX0vSh+h2u+h0FbN9GxerCIQWrDhGfHXMGwfpseoTf2R240l4ocyDkxrblg2wziRByN6UI1nyKC+JubnuB7AcQ4aGnnZdqnQSKaSH3jeqLqB/HLmVFsBqoSNzHnhfBmrhZ3s6CtdBEeOg5zu5mN1PF+nbhhYxNmdHy45x8e51ti0SwpuvzvH2hwO3bBr5ZYMEaJTx9E5/vBoHZzdn5YKPRE6wbghSsuaP+jL+nDuWFsh+oc8O0l1lp9TwonqcoG9kXITc2IaRglYJ1LU9v4NhdoZ0astW8oLFJj4IIVk3bFoFgTdfnBfGFArZvm/hmwQSrGr7NYOermFdepZdR0z28jfLolgj5/hunw47d/lt6L3yGf2YpjWCNMOv/DLfbHf9cxhvUm8ihEpmZwHOhF7vdjt3eg9P9JcGHN3B9cAl/+Bmgshi8xqCzjUqxjzbnX5LO4cbt/gz/bHE4kxq+yaWON7C1/oZTJxqo2tvKOcP7ii8RGvsDLTU11NkOU2c7jr2teq1gjcwwOXIRe/M+rGuC1hKh8T5O2Oqptx2k0lJBfddfCYSjwAJ+xwEUIRDCQmXdEWyNv2N87kH6ssbOc6y+jnrba1Rbd1LV/FuGAonXLkvMBr5kyNlFU1UN9rHbjDreoFwRCPOrdA59y6JBm6jhe3hdH9FaXcup4Wv0N+9BUV7mrasB7g69T5PNhs32Oi1dn+D/OQqoLE/9b063vo6t2Y5nKvlMqTxlyvU6iultPHNrX4fm109RwoFBOg810nbqJMdsh2lqPs1nM/FzqPMEBrupr6zAalZQyt/gI8+38XSENH2x8EznnHp9Mse44xfY6ipjscZcSZ3NZqDsVMG6yPRYP13NDdhszbTZ+/FOL+q06wnBvPpqkanhHlobbNhsDTR1XIz/PsrPtwaxp/xer+/WXdTVOW65T8fKbziD91EUlqfwOrtpabBhs7XjCui1Uad7UInM3uKzvm6aqlr4s28UZ1ttrC+UPTT1frkm5mdsg8YYTz9OvkfV80cA5hnv2oPY3YP/qZFrT6Z4knRM3nEi83jIzk5ZxKV8fpto+2gPDVX7qDtSjdWyj6au/4Eri+tR1n6c5rv0pLPtdyuCbiBwg0vtcT81H6R75Pu15eY8HjK1L129Hml+P3b/jrbv/7ePm5rXr4RgbcQ5eoWPGnajCIFiPUzX4G3ChuNBBt/UtYuRMVk4CiNY1Tm+ttfGG5z8KWWv4xueFOQkG0jke4Y7X0Ex76Op4wPs9lN0HavHWnaY9082UrpOsC4ScLVjs9mw2Q5SabboPLVZIjR6hnqLCXP1m3TZz+I876CrpSYu8BN3NVEeec/QUFeJOeE4NlvSJ+mCs5U8u4frNQuitp+gCjCHt6MCUfZrvEYEyfBJql46xtD92FN4Neyjp2ZHkmANExgZoK+jNiXxfpGpy21U1H6MPxy70M95jlEiFMo6RlkA1t91ZijL3YKl/ASeUPxtQCSIu9mKsDTRHwgTuxB5cTbtRAgT5vImHFfH8I19QkdVKcJ0FPf9ZX2bzN/HN+iko3oHQpiw1LzLH/pOUm8xc6D/Ds/Uh4y070aIXSlPSGcZadtLo3sq89MiNYjrkBmxz0kg2fx59RPxp1V76PDOxe1zF1dDE/3BpZhd+3/Jge6/8zCiQmSKodYKhKii0zsTr2+2TwCM9EmcvJ+wRgnf6uNo42k89xaS7KvTrnz7iicEnK+hiFJq+79N+f0rq2Ua6DvNi7qqldc2y0ibde340u27NKgz+D/9r7gv78Bad5xe99/wuH9HS2UpQuyi0XWHZd02zK8fl+qDzOMkoz+m9vNe7L6FjD1hLJ4UMk6kGQ/Z2snw+bRiXxYxjSiPxk5RpbxK7+RjIMrC+IdUCIGw2uiw/4GRaZ03qTn6cfZvD7Rsm/huJ1W2dznvSdfOPMaDbvvSxcCU79P6vkCYj/E/112/kstQMFe30esaYKDvJPUWBSEqeMtzH1U1Eg/S2c+AXQyNycJRGMG6MEJbSapYjX9K38Nb1OuNxO4uTFUnGQ4lGzlK+N4gbeWmjJOuYh1tzSBYVZbvuWi0WGlwTqTcsS0R8pygPNWZiz0lIHob5/5SlEMuplSAZaZdjYZe6cdeXZew23GDpyvfak26Wh+01PtuGk0pQuHJNzj2llFlv07sl9oBQrus1JmzKsuT59grBMqBfu49Awjjs1cixB66xufjxyUm8CR9p2uTRDkVq4M7+bwBJ7WKwNTo5n6icQsjtJnfYURPXCbGX6p4y6OfgLgf7qDWORkTIESY8ZzhnP8xz+71c0A5nBSYVidKrJ4vO8FqvE/IU7DeITTaQ+vxS0ymzCrXb1eefQWoD4doNqW0Z2GUjpc/YPxJvEADfad9Ude+8MR8L/ZbY32XibXlJcpI2EW89H6sHTm1IcM4yeCPycTKTL0h0OgHA/GksHEizXjIy046cSmv3yaETVJ9E7njRtPkcvTjwgrWQzgDicdmSwT7DyOElbaRWcDImM+nfQYFK5DJ9zOP9eS6J91U7HMSeKYfD9LVx5BdDI7JQlEYwZq4eGh+ilh4QfxiX077iNad1DL33Ucx5SVYf2a8q3LtxS2Zp7e48M45xma3kWBNRl0g6L1IV/1OA0IoypznbUxJwSKGdg7r2kEaIeRuRhGNuKaX1xe9ghHBGmVm6E0UrXzGREBeCQJag1snH1LTJlrlJP8m8eRuP3bfPPCMhZF3sXaN6b+hMCLesuqnOE8n6N1XGkvv6fwE/0wicMWDvmKl+ogt5S2ADdsvXQSikJ1gzaZPDLZ5DYk+K+HlI69Rte8ck+smpxlsVz59BSRighDVOPxhIMLDoV+xv/cmmp6dpu9yE6w/Gey7TKTxZfVb+mtLEaKW3skUSxhuQ4ZxktYf12JM7BiJJ4WOEwbGQ1520o5Luf/2PkNNZYg1Noq3IZd5HVn4cWEFa/J3qe00GstybV8ugnW97xsf60D0Jr17TPHvgzkKVoN2MTgmC0VhBOvTGzh2mzQF65qnCEVIbB3V9AHkWcDJvrwE6zRu20vsc97GsBm2g2BV5wkMnebo0VMMjN8lMGBk0lS6AWlEsCZ+q2cXI4L1MX7H/jSCM/H7TEIzjWDNaBMdwYrKU38Pu4VCWfswc+oDPK2vxQVRZtRpF/XpxFtO/bRap0homO6asth4Nr9K5+Btwmq8LSV6TxSzEazZ9Al5CFaFHeYdKMJKszuYcjE02i79vkr4W3IsTF62J/H7l7rGeKIGcb32C1xTT1NOk7nvchOsDwy2MRPpfDmeP5r8fdZtyDRO0vnj2qOMiR0j8aTQcSLDeCiInQotWOMPbEQZDa67sd8+u41zX2lSyoQBcvDjzROsRsd8ru3bAsG65snrnRwFq/FYaGRMFooCTbqKMDPaTZWSIliVarrHZotvtmYSzwJO9q15pL4W/VUCXkDBGs/5Na0soWR0ln9ioKRutJCNYNV6pZ6MEcGaeG2jtZh24vd1OAOLGA7uujbRE6yAOoW7sQyhvM6fv/oLzfu1ngJqMDNEk6Ih3nLupxQi9xl3tlNtVojlKPoYsyc/IUxpRvghD8JRshOs2fQJ+aUE9F3GWW9BKHX0+H9ek7/qM9QudPtKDU8z4fPhS/pMTCftxJXIOy45xqfXnRw8OsTD5K420Hd5CVYjbUyLnmCNx9Oc2mBgnKzzxztrnkzHytRbKN9IPCl0nEgzHgpmp0IL1pitx3qPUm6qovmj/6Kvy8be5gvGN2jI0Y83XbDmOh5027eFgtX0Np657/ITrEbtojMmC0UBl7VaYsZ3ie6mfZgVKzUtZ5JmURYxT2/g2G1JysFIQp1jvHtfnjmsS9zrP5Lk0OtOsn5bwZkhmpSki3NRobLks7NzzeAxmhuZSAkQlLR6mFtpsxHBmvitgiV1ncXlO7iOOeOzgo0I1sQTLo0cJTWepL4yy9hIcDdiEwMXYlSe+E5TIUzstO7mYP8dYzc5iVdAK4n/GCpThwAAIABJREFUGKyTDqG/8s7KjZZKJHSV9nITYk8Pw4Nvoqw8YUz6TWQazzvvZZ5kkqbtxvuEPHNYp4jcH6K1TEEkT6ZZeQWs165YfXPqq6T6PBxqwSRKsVqr6fD+tMYWRvrO+EUs+cnnfBZtTEfmlIDYW7Vc25BhnKT1x14mV66d6dKOUjEWTwobJ7T6ppB22gjB+j3D7/+a3399n0ffTzGb1ao/ufvx5gnWbMZ8Lu3bAsGaeAr+1lUeqnrxIJ1gNWgXQ2OycMiNAxJPh02v0DF0Z/VRduQhfte7VFt2oOQlWEF9dI3uqjKq2l1rczzUBYIjZ2kqr4/PwowTvUnvnp2rr2FiXxKe+oqhc7/BPvIw59bmzzMWRt6hRAhMtj7+FV4mHPwce52FWML+Qx4EQ6ST2uqjf9BZbkIor9A5HF9aJPId7uadCFFKtf3T+JMojd1OnnyDY28pQpRQ3uTgsvc648N/ouvQ4aQn+T/iadmJELGZrWr4X1yb+InF1LLUECPHKxFiH93jc/HfqizfvcAhUyXHR0Lx77SCSCIoJYKeEZsEGNUVrMDyJM7aHQjl9fWviNMSxu+oTpngmF8/ATFRWNWDP2XnGFOLh7lEP4oyajr6GB7/Gt/43zjfUs/rK3fX2n2R9pJnuE/IQbCm9lmUR96TlAsFS8MfV54YqYbalSgyl75K4skYXS8piIrT+J4kW8VY34U1L2IL+Ox7EaKC1qEpImqYKW8vDRYFIeK5+tm0UZPEmEjO/Y9P9lBqsX89h2qoDff5ed2ORpkEawZ/XDkoPnnIyCteI/GkoHFCazzMMF8wO6WeL1bX9btGGf1t7GGLUtmG0+Pl65W3BTeZNvSENXc/zl6watn2Gwbiyz6t5uCuF+a5jwcj7fPh1oyBWvX9jq81fT/dzl9aYjQ+Di0tuKdiS1bpxoN09ht20aFnF0NjsnBIwQrAEqGRD6kxK7F1HY9UY1VKKG++gH/4/XgumsIuh58oibzXdJPMBGKXA/+a8awSCX1Jb9MeFFGCtfo1bEeqsSoK5up2nOOp62JGmPHaqTGbMFcejB8rEEo5dSf6GA9t8aYMi5P0N+wisXRZZeufGLt8gjIh1gpRTaKEb12gubxkxV5KZQun2qpj7Wtz8Ik/yF2vm96Wl2P/r2rj/BU/s2pKvowQGmvqJZZiifWZpeEMA5cvaZQFRH5g1H4Yi7mWtt6LDPR9QMPeBuyjP8TLexxLoq+zIISJ8pazXPEHubvuuxnUTDYRAvHyf/Kf5SaEKKWq7fcMfBqvwzpik0FKmlNeEesQm82c8vomr34iLgpLqWz5He7hYa72dVJ/4ENGQkua/SiUvbS6bq5Zo29tX/xR/1WioT4ZpK/jACYhEKYDdPQN8Kk/w/Iz6gz+T/vjfaZgsZ3C5b3L3D03reWm2Hf1J+m74mdWNdKulcrm1FerhPE7DrBXa7JVxr4zU/6fH/Bx2/7YUoLlLfS6rxFcVInFms/prCpldT3sAQZOvhwfXx/jubeQRRu16x0TPCbM1oO0dJ/BcaqF6vIjSf1kpA3dfJQ8Li+5uDTwMS3pxklGf4yjBnEdKqPC/k8DE+CMxBMKGCdCzGmNh2ztdOUa46NGzqcVR43+dgY1XaqfEAhlD81/vp35hjcnP/6Uq1fdnNf07UykxBrbe5z/Xz1xX7JQ13URb/BHjX6aia3vm+t40I2x3/FQMwam1Pf/+wWnzjs0fP8xQc1rIcR0y2nqrWasdb+i+2wvZ7tbqG9IXqrPSDx4vL4+DX/kVvipvl2MjMkCIgVrMpFZAr5rjHwxvjbfrGCoRGbv4PN+zmfef+qeQw1PMzH+BZ6RMXwT00W0Pzyghpme+CapDUvMBiaM73Cmhpme8MXbpRL56Ud+Mvy6aYnZwA18vjtpXlHF7PxNYNbQ3flKvmG+Ns7XJgD8hLfjQA47VoW51XuIl1Jf3xSiTpFZAj4fPi17JvqxQH2xWmyB+iRXdNsFufdV0ml+muK7dCI+n76L91nst1HCWq9zDbVRi7WrDmQciwUZE9ptW++P8aW1Kk7GFkk3jF48iZdeEJ9MMx42wk55s0Ro+EOO9oxwy+/D5xtjZGgQt9vNQP+HNOw+YWyi0qa1LbdYs/rzHMeDbvvS1SvP+q6Q2GHUl15TGIkHGX1Txy6ZrhEFpPgFa9iPy26P7w5l4HO2l7PZHO/yU4Dd6zefbOxyzIwQZo497zZ5DlDvu2nck/qK2CCRIO7mev3FriUFIa++2tYYycfefNSwn3OHGlIm0klyQ+WJv4e9Jet3z4v9+weGfmU3tgGJRFIgil+wLgbxDrpTtihN/xm8epWr2RzvDeq/1ihGsrFL3wlqak7Q97zbZFuishi4xFv1h3mz4yRtdZUGdkvKUFr4Nu73OugxvP2qxDiF7avtS/EJVjV8kwtvtXPu6x+l3xeExGYuu2l2XmNq5S1AbC7F5dMdvK+XUiSRFJjiF6wSyXNNlEcj72KJ50BVdX6+Zi/2nFDnCXw+xndGlsSSZMEG9NV2IzJL4Ppf6KgsieUG2i8zvuXpSlEeTXyJb4MXLX/RUMMTsf3s1+SvlmCt7+KS/6EUq5JNRwpWiWTLiefQbXD+j6QQvOB9lchVS/5suWCVbBzxeRdZrQ4gkWwMUrBKJBKJRCKRSIoaKVglEolEIpFIJEWNFKwSiUQikUgkkqJGClaJRCKRSCQSSVGzTQWrSmR+nsQulGr4Htc8YwQ3JCFcJTIb4KtAhi0lsyJKeOoWgZ9Wp2xsbP2LkSVmJyeZ1t29JB/W21mbtb4kkUgkEomk+Nh+glWdJzBo53jPP+JLyiTWizOxp/cmhZN8C0wOvM+bNVaUrPY0zlCeqxNbpSVl/cKNqn8Rot5n9PSb1FhLUvY/LiTp7JyOKOFbFzl+/KL+tqESiUQikUi2hO0lWNV5bjl/yaEe35r9ysO3LtLeeIILt+YLvIi3ytJ4NzsKIlhhVZwmC6mNrH8xoBJ58G++X3maOo3bZt5AwQradtap45Sbo7V2xrLa0lEikUgkEslmsI0Ea4SHnnZeqnUS2MQF0SM+O+aCCdYIIXdTUe0Qs+FEgrib25LE6WYI1lzsHOGh5zi7m91MvWiLwUskEolEUuRsG8Gqzg3TXmal1fNgU59CSsGaB+rP+HvqUNaI02IVrMDTGzh2V3B0aPo5fNItkUgkEsn2ZZsI1qdMuV5HMb2NZy7llW1khsmRi9ib92G1+4iwxGzgS4acXTRV1WAfu82o4w3KFYEwv0rn0LcsrilgidB4Hyds9dTbDlJpqaC+668E4vmMawSrOsct92laG2zYGs7gfRSF5Sm8zm5aGmzYbO24Aotryx77Ay01NdTZDlNnO469rXqtkCpE/Ud7aKjaR92RaqyWfTR1/Q9cbjdu92f4Z9OJwuTzlGP781f4L3VRby1BiDJquocJLc8TGLLTUF6CECWUN19Ym+epzhMY7Ka+sgKrWUEpf4OPPN/G0zUW8DsOxLf1s1BZdwRb4+8YX/huRbAOBG5wqb0WsxAI80G6R1L3pl4iNHaeY/V11Nteo9q6k6rm3zIUSE2d0LNzlHBgkM5DjbSdOskx22Gamk/z2Uzq6/95xrv2IHb34H8qJatEIpFIJMXC9hCsahDXITNin5PAs+R/hAmMDNDXUZs0MWqJ2YAXZ9NOhDBhLm/CcXUM39gndFSVIkxHcd9fjv9+kanLbVTUfow/HAWizHmOUSL+//bu76etK9////oD9o1vvhIXSJEsS1yMFEUIfZUIVfiCqBUfkagVQmkiC6qeD0RnKtMZhbRVIKMTSNU4mtaoDZnPxN8zcDKt04NFP6HTuP3g04kzgnTiKEYJyjiT0AMpTgMhDR8ngmCzn98L22Ab/9j8SDDJ+yFxY+zttdbe9n557bXW1ihru8gsWXpY9R9x12/L6CGcxtdantGjN0948BjWXx1iYDJ+j2s9EqCrdlvK89Zb/hgPh05g1V6ne/QxEGN2+CN2KoUqt9Hm+CO+iVz3155nOvR3BjpqUErDbLXTdd7PteBlBjr2oqlyDjS/y+Ez33A5GOSH3hbKlIldzms8TbZ976/Z2/k996M6RMcZaNmJUlba/VOJQJmtNzX52Hastg84482zbzx2LBVH8IYTdYiO4WkuR1ma6A2top2fXsO5q5I2/0xiO7dxNzTRO5bZNsme2Wocgdkc7SaEEEKI521rBNZZH60lCmXzEM7y75WX7SMEHFUoVUnH8KPEs+YIuerSHtMnPTSadqQPM3hyFWd1GVbHZSJZt50thCXfbzmwxocwlKQEPMg1GWit5V8OyilliQVx7tBQZgeBglfckwHNjM0zsaI82zqGWYp0j/20lSpUvZsJHRbv9LJX258S+pYnqGn73Izrudoq+dg+XKEnicfmGevdj1LltPqmU/ZN5soJOgujp6lWCm1vL3cWDbZz2INNbWOPa5SFRL2nvB9zOvh4ZYsEHJhVKXt6/ynDAoQQQogisTUCa9iDTa0lsKYGw8xwFiXsaUZTjbgnFrJsNde2jQTWGDPe32JKCWDpZTAaWPOVH2CSgaYyVFodEuXbgMCaNm43GsBhVontJgKmVk7NARs2W8bfr92EYrnaKttjmeWIMTXwDlpGuYDlQK720zv2xFg7Px2he3dpfKhD+5cEp3L1Om/0mGUhhBBCbIQtEVj1CTf1Gx5Yk8/JP/lnbYE12/unlmGjAusCk56DmFQZDe7b8dcu3sS1u3RpSEN+aw2sifKVvI9vdjHrlsnZVkYC62OCzldXlCv99VU4AvcMtrNONDxIZ20ZSiXGAvffTFkaLeWVEliFEEKIorMlAitTAzRpzyqw7lwe22ho26sJrGU0DUymbm2DAysQnWSo+yAVJivNn/w7PR02qjMnR+Wu3foCq6rBGVw5C1+P3OdeJJajrYwE1gUm3I05bqaQfH0drtD0qtqZ6CTDrsPUmDWU2kGj+xaZfevxur8EN3EQQgghtpCtEVhj1+muNKH29DJmqFfMSOBLXrbXsGSuvblwC/chF8GnusHAmphdvmJIgKKkxcvM0qafRWC9y+Dx3/GHK5M8vDvO9KrWEF1rYE1estcoOzyYUj8gOoH3/aOJyVNrDaw6T4Nd7EobD5ugJya97eoi+NRgO4e/4n3XTeJ9wTrR8AUOV5hQld2MpqXSXEM5hBBCCLGZtkZgJULQWYMqPYp/xU3fs92NKlvgS/bapYSzJ1dxVpfGl2xqcnLef5nhwT/TsW8/nUPT6GQLb7MEHNUotZOWgXGieoRxfzcNFg2lKjjsi8+Q1x/+lfYKE0p7jfbBxHJN0R/xNG9HqVJqHH9hZCKCvp7yM8+d3gNoVa24vH6uBAIEAgECgetMbEAPa2mbn6VpSfPDdGxTS2Njl+qnyqht62Fw+AqB4W84Y6/nraWey5/x2rejVHwVAz3yDy6NXKXPZs4Yd5ulHHoY33tVKLWbzuGZxAQonYXbZ9lnquI9X9h4Ow+d4YC1i2DG3bZMdi/pfeuJiW0FhzoIIYQQ4nnaIoE1OWs88xL0Y8b8Hrrtr6CUQrO2cubrSwxf/JyOOgtKmaiwn+Lr4Bi3/ZmPTaFnjm1MWw/0MWP+fs60vhpfS7TCTrfnEmNzi0TD39FuLU28pozazj76jr2C0iqoa/0M7534ElORG2dprihZ2rZWZedEa03ieU6+DI5xe13ljzJ1sROrppbLn/zTKmn+4mbGmq1ktJ0bh20HSilMdR184Q8xHvyGnra9mJRClTfjPHeJ2+PX+LrbToVSKFM9HV9cYmwuuqJ+SqumxX097ba58WW3FEppWGxHOfMfXdgrTChloa7jc/xjPzOWtW5A9CcuOvZjMe+htftz+no+pKG6AcfFn1LGlxpo5/Mfs1+VUmX/FM/gIBd62qnf+xG+cMbkK30M974ydjr+zhOEEEIIUSy2TGCFCDe69/GrzEvQG2Ke6dA1AoFbxi+pR6cJBQKJXtIYkVyX4/UIEyMBAiMTRHSd6IOfebBht/6cJzz4EQe7fNwIBggEhvAN9OPxeOjr/YiGXUeefU9hsn45204nOn2Lq6HpNU9i0iMTjASSbVigHPnaObHPAlnLorMQcrFn57H4DSGEEEIIUTS2UGAlsXB8fcrC9C8znSfBLqpLstz9C0D/iYHfOPDLpW1D9EiQ0/sa6Ar+IseWEEIIUWS2VmAF9MhNPEfb6BqafMmXHUoujr+LZtclxpfGrMaIjP/A+ZNtHB/MvNWpyEaPXOfsu4c5feVnaS8hhBCiCG25wArE72H/3RA/LrzcfWF6ZITe5sr4GNulvxLK6zs4F7wv4cuQGA9H/kYgz80EhBBCCLG5tmZgFSniY0RXtzqAEEIIIcTWIYFVCCGEEEIUNQmsQgghhBCiqElgFUIIIYQQRU0CqxBCCCGEKGoSWIUQQgghRFGTwCrymGd6dJSJuee9fFiMyPgNQg9kYa6NokfucMk7xNgLsIrEi1QXIYQQxkhgzSdxK88rl0M8eJmWfNUnuXjyHWrLS1CqCU/4eQXHWUbd7diqLChVhSMQeU7v+6JL3mTCRGX3dbZ2zHuR6iKEEMIoCawr6MwPd7ItdTF+s4PAC9/ZpxO999/cXepNncBjMz/nwArLgUQC68p9stbXxYjc+JzDjUc4e+NREd56djX1LPa6CCGEeBYksBYQDTgwvwyBNTqGp7k1JZxuVmCNEvY0SWCFLPvkGb9us2y18gohhHjuNjiwxohMXCcQuEZo+sW41eVLEVj1Xwh21aGlhVMJrJsq6z55hq/bLFutvEIIITbFhgVWPXKT/vbXMS9dSi+jtnOQcHSrXLSbJxz437icDhyO39N99luCU/N5AqtOdGoE79luHA4HDkc3Z70jTOWsb+bzu3B5/sbY/Wu4PzxHMLL4jOuXyyxB5140pVDKQlXdAWyNnzI8++NSYO0LXePc4T3xfWt+g07fXdKaQ39EqL+T+qqdlJs1tIq3+cT7TyKGdv084aE/Yq+tpc62nzrbezhaa7IE1nnCQ2c4VF9Hve1Nasq3Y23+PQOhzMvC84SHezhiq6fe9gZVlp3Ud3xF6P9OccNzkpYGG7aGj/E/jMHCOH5XJ/YGGzbbYdyhOWCe6dDfGHB10GStwPbFDwTPdVBfXrJ8TC88IjTgoKGiBKVKqGg+y43UCUB52yN1+7U4hm5y0fk2FZpCmV+nfeCfzOXcJ/FjRI9c51zb29ha/o0TRxqwVrdwemiSaK7Xzdxj1Pc5jubdlDsC6fsub7saKasRMSKhftr3NdJ64hiHbPtpaj7Jt1MzWcs7NHkLv/sTWmr2cGLwEr3NlWjaK7x74S56dCqjLqst4zzhi100WHdTd6CGcstumjr+F26PB4/nW4LTEpqFEKIYbUxg1We44tiTOPGk/pVS7bzKkw15k2coepfB9tfQzLtpavsQh+MEHYfqKS/bz/FjjZSuCKzzhAePYdUsWJuO4DjVzSnHEZqsZZhrP8IXzuxdnid88WPqLSbMNe/Q4TiF64yTDnttIuBvdu9Stt7U5GPbsdo+4Ix3iMDQl7RZS1Gmg3gmFxLPixDq/TV7O7/nflSH6DgDLTtRykq7f6rAGMNEO/7qEAOT8TbTIwG6ardlBNY5xj12LBVH8CbbNjqGp7kcZWmiN5TyvPOt7NzzGcFIDIgx4z1EidIoa7vIrP4j7vptGfWcxtdanvJ+80yH/s5ARw1KaZitdrrO+7kWvMxAx140Vc6B5nc5fOYbLgeD/NDbQpkysct5jaeG2mOe6ZAfV9N2lDJhrmjCeSFb2+bo4V68g/tNC2pPL2M6wAz+tp2ost/hn13M8roIIV8fPW3xz6c5LbAWatcHBstawNNrOHdV0uafSbzHbdwNTfSOza8sr36PQL+LtpptKGXCUvsBf+w5Rr3FzN7eADdX1MVoewLEeDh0Aqv2Ot2jj4EYs8MfsVMpVLmNNscf8U28GFeGhBDiRbMxgXXWR2tJZlhN/JUexf+4mHtZ471SJusxBtOCZozInX5aK0wZk650ngS7qDa9gWPoXnpvVfQeQ443MFV3EXyiLz1/4Y6bRks5Da6RjF7HecLeI1QUdWDdhyuU/Mkxz1jvfpQqp9U3DcDinV72avsT4QNSJ61p+9yM59n1+swgh8tKUsIeZJt0pU96aDRlzgrXWRg9TbVSaHt7ubOYfN4OWrz3loPyk6s4q8uwOi4TyVrPCAFHVUZATg5LMGPzTCy9YzTgwKwU2zqGWTpSHvtpK1WoejcTutH2SL5nJR3DjxLPmyPkqkt5LEdgjd3E9WppyrYWmHA3ppQ/++uSZU8NrMba1UhZCwh7sKlt7HGNspBo3ynvx5wOPs5R3uR77lwOuSlW1sVoGZM/TlLeKxbEuUN7SSZWCiHE1rUxgTXswZYtrBZF72EBsz5aSyo47MvWG7jApOcgprST2TS+1gp+1TGUvef4yRAdv6pYCnTwC8MdVZgaPUxmC29Pb3D2/dMMbeqlyHyBNfWxzCCXCLBaOTUHbNhsGX+/dhPKue5QjBnvbzGlhN/090gGsBhTA++gZYTH+CYSYUPtp3fsMWFPM5pqxD2Rq9dvYwJrWi9lNIDDnFxJwmh7GHlPA2OI9VnG/J/TUb99DYHVaLs+MNw+OT0doXt3aXxIRfuXBKdSfxga3SfLcgfWQmWcZKCpDJV2jCTeXwKrEEIUtY0JrE+v4dxlyhpYk71fxSoWdLIjTyhYDLnYnXoyi12nu7Isz4l6Ao/Nwg5nMNFrNYHH9it2u25SvM2w1sCaCAol7+ObXW3tcoWSzMD6mKDz1RzhKFnGKhyBe4nt5fuB9KwDq9H2WGdg1R8RGjjJwYMn6Bu+TaivaQ2BdbXtuo7Aik40PEhnbVlimbjXae+/mbja8DwDa+IHqCqjwX07/trFm7h2l8aHjBioiRBCiM2xQZOuokxd7MSqZQRWrYbOoemiXitxMeRit0q9hJtuxaQr/Z/07vkV9e4fs9dL/xF3fVlKQH0JAquqwRlcGSz0yH3u5bwbUfK1ZTQNTKY8nhlYk5e8sy0UnyxjHa7QdN7LyLnr9AwCa8H2WEdgTYy3Nu1xEVrQs7SX0cC62nZdT2BNvmySYddhaswaSu2g0X2LhecaWONlGOo+SIXJSvMn/05Ph43qzElzQgghis4GLms1z1TgHJ1NuzFr5dTaP84yg7sIPb2Gc5clZXxdCn2G4c7dGZcLIwSdNTkv8cfHBb6KI5AcNzfPnd4DKQFjxSuIPnrE5g7zXWtgTV5W1ig7PMhMah2iE3jfP5pnUk5ySICipMWb8trMAKbzNNjFrmxjYvXEJKpdXQSfJrenYWn2MJ66WsPCLdyHXASfjmep0yOGOyo3KLAabY+1Blad+YCD7VmD52oDq9F2XUUYzCX8Fe8v/WDTiYYvcLjChKrsZjT2vAPrXQaP/44/XJnk4d1xprfMKiZCCPFykxsHJHuHTa/RNnBreVJU9D5B9wfUWLahZYxv06e+56h1Fw2nL6csY6UTnbrM6YYKKt77P0ylnAf1h5fotJZhPexOH7+nzzLmO0VTRX1i1vJm+RmvfTtKxWdP65F/cGnkKn02c8Z4v5UhQH/4V9orTPHxiW09DA5fITD8DWfs9bzlvrXyR0CKpddqr9E+mFgqK/ojnubtKFVKjeMvjExE0PUwvveqUGo3ncMziR9BOgu3z7LPVMV7vnD8sSdXcVaXolQJFU1OzvsvMzz4Zzr27U/09M8ScFSj1E5aBsaJ6hHG/d00WDSUSh3HnD+wlrb5Wdpb88N0bFu+G5qx9sgWsJLBM/me2fbJFI9871OiFCZbD/+ILBAZ+w5HnSUxueg+98YCeFa87gFziYlfaWHbULsaKWsBYQ82axfBjLuomexeZrLW80eu5Aysy5PY8gfWbGWM/3jUqlpxef1cCQQIBAIEAteZSOthjRDqbcKivcbRi/eK/0e3EEK8BCSwAjBP2PcRtWYNZa6Kr8+oxdfXDA4eTyw9paWMS00dk2ehqm4/dVUWcq89qxMN/43upko0VUJ5zZvYDtRQrmmYaw7jGp7MWBvzeUsu9xOvp8V2lDP/0YW9woRSFuo6Psc/9nN8gk+dBaVMVNhP8XVwCp0YkRtnaa4oSRkKUk2L+7qBdVhXvlarsnOitQalVVDX6uTLYCJERn/iomM/FvMeWrs/p6/nQxqqG3Bc/Cml7TLGSq5YN1YnGv6Odmspy2sF99F37JXE+32G987PjPndOGw7UEphquvgC3+I8eA39LTtxaQUqrwZ57lL3B6/xtfddiqUQpnq6fjiEmNz0QLt8ThLO45xe8VjYWZS90nDn+KXredG6W3YQXLZuKqWPzN0/ghlSiWC/4/cT3vdx/SdP0e3/ZV4+1pbOfN1kOmlH2b52tVoWQssXxb2YFOlVNk/xTM4yIWedur3Jpd/yzj2/se/cuKMM3HslWJt/QN9f0mW9zFjfk9GXS4xfNFoGXMMXVIKpVXS/MXNxJqtD/C3VaJUKa+6biKDBYQQYvNJYE0VnSYUuITvv4bjPXsFXxC/s9ew7zt8w5m9NNnoRKdvEfB/x7f+vxt8j+clXraroem1hWc9wsRIgEDg1uovsyZfOzJBRNeJPviZBzm2oUcmGAkkn5trg/NMh67lLkt0mlAgkGj/GJFncWl4Pe2xvJHs+0SPMDFyNeX4mWc6NJJyd7nV70tj7bpOiXYPrCjXOo89w+YJD37EwS4fN4IBAoEhfAP9eDwe+no/omHXkeXJctFpQs+yLYQQQqxK8QfWSBC3w5G4O5SBv1PdnFrN891BiuIGoC9LPYXYFIn1k0t+i3cmyw9L/ScGfuNI3HxBCCFEsSn+wDo3hr/fg8dj7K//wgUurOb5/jGDt5d8xl6WegqxKZI3pNhFs+sS40tXQ2JExn/g/Mk2jg/e3eShOUIIIXIp/sAqhBAbQI+M0NtcmXEL6RLK6zs2W+PKAAAgAElEQVQ4F7wvYVUIIYqYBFYhxEskMY486+oAQgghipUEViGEEEIIUdQksAohhBBCiKImgVUIIYQQQhQ1CaxCCCGEEKKoSWAVQgghhBBFTQKrEEIIIYQoahJYhRBCCCFEUZPAKoQQQgghipoEViGEEEIIUdQksAohhBBCiKImgVUIIYQQQhQ1CaxCCCGEEKKoSWAVQgghhBBFTQKrEEIIIYQoahJYhRBCCCFEUZPAKoQQQgghipoE1g0zz/ToKBNzev6n6bOMXfITnJp/PsUSQgghhNjiijOw6pP4/9CBvaYMpVSeP40dziCxzSzrk1H6jv4LVrOGUk14wtG8T48FnexQCq3BQ7hAthVCCCGEEMUaWBNio91UKpU9CEbvc+10Iyabh/DmFG+Z/iPu+m2GAqv+8AdOt7zD0YHbLGx8QYje+2/uFurlFUIIIYTYQoo6sBL2YMsVWAFmfbS+VQSBlQk8NrOhwPpMRcfwNLdubhmEEEIIITbY1g6sRaMIAqv+C8GuOrSibyshhBBCiNXZooFV57H/OG97JlIemyc8dIZD9XXU296kpnw71ubfMxB6RPICuR65g9/9CS01ezgxeIne5ko07RXevXCX/BfRC207GVgbcV38mk8adqEphVa+n47+m0T05e1Mj35HT0cT1qb+5Z5h/RGh/k7qq3ZSbtbQKt7mE+8/U16XKMNwD0ds9dTb3qDKspP6jq8IRWLALEHnXjSlUMpCVd0BbI2fMjy7QCTUT/u+RlpPHOOQbT9NzSf5dioGLBK58nusWinVzqs8WdMOEkIIIYR49rZIYH0dh/cygUCAQCDAFX8/Dtsr2JYC6xzjHjuWiiN4w4nZ99ExPM3lKEsTvaEI6PcI9Ltoq9mGUiYstR/wx55j1FvM7O29xWLOQhjY9lJg1TDXtNLt7qOv5xj1Fg2ldvKudxIdnSeh7znXbadCKdTS2NsIod5fs7fze+5HdYiOM9CyE6WstPunEoF4jvHzrezc8xnBSAyIMeM9RInSKGu7yCyQtZf36TWcuypp888kyn0bd0MTvWPzQJQpbysWpWFpHeThxu01IYQQQogNtUUCa6LX0GbDZrNxoKYcTZmXAqs+6aHRZKKy+3rKigE6C6OnqVYKbW8vdxYBIgQcVSi1cznEFWBs28mwuD8RBgFizA5/xE6lULtdhJKJeNZHa8lyYF2808teLfV1OvPDnWxTCm2fm3E9WYYdtHjvLfcEP7mKs7oMq+MyESBrYA17sKlt7HGNJiZ4RZnyfszp4OPEW0WYGLnBRGRT11kQQgghhMhriwTWzCEBc9zpbabBMwHEmBp4Jy3ALokFce7QUoJkMrBW4QhEDBTA6LZvZR/DGrtOd6Up/fFoAIc5GVjnGevdj9LKqTlgWwrkS3+/dhOKRQl7mtFUI+6JfOsKZOthHaF7dylKlVHb/qWs/SqEEEKILWmLBlZYnPDzVfAX4DFB56uobKFyKcQlA+pqA6vRbY/mmHSVpec1LbAmylPyPr7ZXIMSkmUuNJkq28QvnWh4kM7axHq25tdpTxtTK4QQQghR/LZsYF22wIS7EaUyL9vDcoirwxWaY/WB1ei2Q/kDq+m3eGcSr84WWFUNzuDK8uiR+9yLPDI4jCHPSgXRSYZdh6kxayi1g0b3rWewBqwQQgghxLPxAgRWnafBLnaljPlc/ldiQf9dXQSf6qw+sBrd9nj2sLh4E9fuUsrevcD95GvTAmtyyIFG2eFBZlK3H53A+/5RPJNzzHh/i0lpWJo9jEdTnrRwC/chV6Ju2cawfsX7rpuJCWU60fAFDleYUJXdjMqwVSGEEEJsEUUdWBdDLnYbWYdVD+N7rwqldtM5PJOYmKSzcPss+0xVvOcLJx5bbWA1uu1svZuJSVcWO57xueXtpQVW0B/+lfYKU3ycaVsPg8NXCAx/wxl7PW8le0KfXMVZXYpSJVQ0OTnvv8zw4J/p2LefzqHpRJl+xmvfjlKv0z36GD3yDy4NdHHA2kVw6c5X8XKa7F5m0HkS7KJaK2NP9zVZ1koIIYQQRas4A6s+RbDfxYkma2Jt0VKqmj7E1R9kOtf4y+hPXHTsx2LeQ2v35/T1fEhDdQOOiz8RBZgbw+/5DHuFCaVKsbb+gb6/5NnearbNPGHfSerLzZTX/YbOU92c6rRT33AS753Z9DVeMwIrxIjcOEtzRUl8nKlSKK2aFvf1lLGmGWNRlUKZ36DTd5flGB/j4dAJrJpCKQ1Lw5+4ETqHTZVSZf8Uz+AgF3raqd/7Eb5wfFmr+wP2eM+tLGslhBBCiCJWnIF1HfTIBCOBAIGRiQ2fXFR42zEiE9cJBAKMTESy34xgRWBd2jgTIwECgVtMR3MVfJ7p0LU8z9GJTt/iamiatP7o6DShQIBA5uOyrJUQQgghtoAXLrAWvRkvdpOitM3P480uixBCCCHEFiCB9ZnTiYYvcvq4C394PjGRrJI2/4PNLpgQQgghxJYggfWZWyRy5fdYNYWpxs5x+z72Hv8rU7IWqhBCCCGEIRJYnwsDY1uFEEIIIURWEliFEEIIIURRk8AqhBBCCCGKmgRWIYQQQghR1CSwCiGEEEKIoiaBVQghhBBCFDUJrEIIIYQQoqhJYBVCCCGEEEVNAqsQQgghhChqEliFEEIIIURRk8AqhBBCCCGKmgRWIYQQQghR1CSwCiGEEEKIoiaBVQghhBBCFDUJrEIIIYQQoqhJYBVCCCGEEEVNAqsQQgghhChqEljFJplnenSUiTl9swvy4tAjTAT+i4H+b7k8HmH1LVss+0QnOh3ih9CDNdRhk70w+wAMlUWfZeySn+DU/PMrlhDipSSBdT2i04QCAQKBvxOceLzZpdka9EkunnyH2vISlGrCE45udoleCHpkBNdbTXR83ovDtgOlyjk4MGEsMBXNPplltO8479SWoymF2RFgKx0dL8Y+AJ6M0nf0X7CatYJliQWd7FAKrcFDuBgythDihSWBdS1mvNhNCqWSf2ZsnonNLlUR04ne+2/uLvXUTOCxmTf/xPzCeETA8SrK5iEM6A+H6Dp4GFfwlzyvKdZ9ojM/3Mm2LRdYX6R9AOg/4q7fVrAs+sMfON3yDkcHbrOw8YXIaB8hxMtMAuu6TeCxlUtgzSc6hqe5NeXEV0Qn5hdBLIhzh7YUlgwp4n0SDTgwb7XA+oLtg6Ioy4r2EUK8zDY4sMaITFwnELhGaPplGdMkgTUv/ReCXXVoaSe+IjgZvkjCHmxKGQ9LRb5PtmRgfcH2waaXJWv7CCFeZhsWWPXITfrbX8e8dJm8jNrOQcLRrXI5Ryc6NYL3bDcOhwOHowuX52+M3b+G+8NzBCOLOV5nLLDqkXECPg8upyOx/dO4/XeIZGsefZYx/5d0OxLPdbrwXAoxfsXNZ75xVpRktc9/bmYJOveiKYVSFqrqDmBr/JTh2R+XToZ9oWucO7wnftyY36DTdzc9pOiPCPV3Ul+1k3KzhlbxNp94/5m93ZbMMx36GwOuDpqstTiGbnLR+TYVmkKZX6d94J/Mpb5F5Drn2t7G1vJvnDjSgLW6hdNDk4lypG6rAtsXPxA810F9ecnyMb7wiNCAg4aKEpQqoaL5LDcisXXWYbku4aEzHKqvo972JjXl27E2/56B0CN0Zhh2/iu2uqpE+1VRZ7Ml2jjXXt+sfZJSn+Eejtjqqbe9QZVlJ/UdXxFKaa9sgTX/PgKIEQn1076vkdYTxzhk209T80m+nYoV+N962h/Yqvsgb51gObA24rr4NZ807EJTCq18Px39NxPvM8/06Hf0dDRhbepPD+oFy5fvOMjVPpv3TSaE2HwbE1j1Ga449iS+YFL/Sql2XuXJhrzJszRP+OLH1FtMmGveocNxCtcZJx322kQAz/cr30Bgnb+CY3sp5bX/SvupXvo8fbjP/Bu2CgvWo98zlXqS0e9x8ehrmCpstJ3qpc/zn/R2d2KvKUMpE5Xd10k7za72+c9dtp6a5GPbsdo+4Ix3iMDQl7RZS1Gmg3gmk6PhIoR6f83ezu+5H9UhOs5Ay06UstLun8ozmWWe6ZAfV9N2lDJhrmjCeSHHeyzewf2mBbWnlzEdYAZ/205U2e/wzy4mtvV3BjpqUErDbLXTdd7PteBlBjr2oqlyDjS/y+Ez33A5GOSH3hbKlIldzms8XVcdAOYY99ixVBzBG05csYiO4WkuR1ma6A1F4o+ttndvU/ZJoj7nW9m55zOCkXiQnPEeokRplLVdZDbxrBWBteA+Ap5ew7mrkjb/TGIjt3E3NNE7Np//f4XKa6T9YWvtA0N1SpZFw1zTSre7j76eY9RbNJTaybven3gc+p5z3XYqVtS7UPmMHAfF1NsshCgGGxNYZ320lmSG1cRf6VH8j4u5l1Vn4Y6bRks5Da6RjB6KecLeI1SsN7DylEe/PFlxItEnPTSa9tA9uhzpF0MudqtG3BMZUxgSX/rbOoZJPc2u9vnPX74T8z5coWTd5xnr3Y9S5bT6pgFYvNPLXm1/SrBYnpCj7XMznvewihBwVKFUJR3DjxKPzRFy1aU/FruJ69XSlO0tMOFuRKkqHIHkyTtK2NO0YnJdMliltfFjP22lClXvZkJfXx3ix0fmjw6dhdHTVCuFtreXO4tscFh6dvskXp8dtHjvLX8WnlzFWV2G1XGZpdbODKxG9lHYg01tY49rNDH5J8qU92NOBx/n/18ehtt/6f23yj4wUqdkWVLfJ8bs8EfsVAq120VokeXv/pR6Fyrff/9k5DiQwCqESLcxgTX5ZZ31r9i/cH5huKMKU6OHyWxf9E9vcPb90wxNryewAnqE8cvf0u/x4PF48Hi+wvv9n7CXpgYjEisQVNPum8wYv6czNzHC5dB0+uOrff5zl+/EnPpYZihMnKi1cmoO2LDZMv5+7SaUt+s4GVgLB88l+ixj/s/pqN++qsCaNtYyGsBhViizg0B0PXWIMTXwDlq2siYn+CTDxIaGpWe1T6KEPc1o2X5cZT4z3xjWXPvo6Qjdu0vjwzTav0xfFzTf/3JaRfvDFtkHq6lTjsAYu053pWn58eTxvlTvQuXrYfCckeNAAqsQIt3GBNan13DuMmUNrGm9EEVpAo/tV+x23VzjWM9CgVUnGh6ks7YMZa6i3t7GCceHtNnfSox7ywiszBP2fUStWUMrr+GArYGm1mM4nC7OfTvC1Ioxwat9/vO21hNzInCWvI9vTWPXVhFY9UeEBk5y8OAJ+oZvE+pr2qDAup46PCbofDVHuE62X6KMzy0srac+yf1ROIBkbdeC+yjlc6YSY5WXxlrm+18uq2h/2CL7YDV1yhUYM3peVwTWQuUzehxIYBVCpNugSVdRpi52YtUyAqtWQ+fQdJHfreYZB9bFO7jfLKPM/p/cjmR0fUQDOMyZgTX5v2lCl7z0e/pwu7pwdPyGuvJSLAfPZ1+ge7XPf27WeWJWNTiDK9tHj9znXmZ7pjEYWKN3GWx/DdMeF6EFPeU5GxhY11SH5GXvbOOQk+1Xhys09/zD0prqk3ztzuWxpDmsaFdD+yj54kmGXYepMWsotYNG963l9UHz/W+FVbQ/bJF9sJo6FQispt/inYnlDqw5y3eb/tb/18BxIIFVCJFuA5e1mmcqcI7Opt2YtXJq7R9nzDotVvPc6T2QcjLMpBN99Ijcw3ALBNapAZq01HGUSTEiwc+o1TKCkfcYbzovZ5mopjMfcLBde4eBpdnNq33+ZljriTl5+VKj7PAgM6ntH53A+/7RlEko2RgJrIk2Sgudqx/DmjuwrqcOOk+DXezKNi5RTyzqvquL4FP9OYal9dQnxoz3t5iUhqXZw3hqz//CLdyHXPG6kNmuBvdR+CveX/rRqRMNX+BwhQlV2c3o3Tz/y/nRWEX7wxbZB6upU47AuHgT1+5Syt69wH2dLIG1UPk+4NPPDho4DiSwCiHSyY0DAP3hJTqtZVgPu9PHt+mzjPlO0VRRT/dorgkaBQLr02s4d1mo7QosX4KM/kyg97dUmc2YMwOrpwll2odj8Hb6JUt9ln+43sK08ySBJ/oan78ZfsZr345Sr9M9+hg98g8ujVylL7FkzvI4tpWhUH/4V9orTPGxh209DA5fITD8DWfs9byVt3cMsgfWZNBJvscis773KVEKk62Hf0QWiIx9h6POkpiYdZ97Y2HmCgTW0jY/S0fH/DAd25KBdZ110MP43qtCqd10Ds8kfvzpLNw+yz5TFe/5wvHHVh2WNmmfPLmKs7oUpUqoaHJy3n+Z4cE/07Fvf9qVmPTAanAfhT3YrF0EM+4aZbJ7mcn3v41o/620DwzXKVtgTEy6stjxjCd6llcEVgPlM3QcZGufB1ugA0QI8axIYAXivS5/o7upEk2VUF7zJrYDNZRrGuaaw7iG0yc0Je+fnX2SmULtcBJc6rmJEbnxJxosWnyNxuR2a39H/43vOGFOfU385GR67QBvWy2JMak2bLY3qSkvQat4h94bqb3Wq33+ZojxcOhEYriIhsV2lDP/0YW9woRSFuo6Psc/9nN8Ik2dBaVMVNhP8XVwCp0YkRtnaa4oSRlmUk2L+3rB8YcrtzfG7WzvMTdKb8MOksuwVbX8maHzRyhTCqW9RvvgTUJ+d+Le8ApTXQdf+EOMB7+hp20vJqVQ5c04z13i9vg1vk4u82Oqp+OLS4zNRddYh4ToT1x07Mdi3kNr9+f09XxIQ3UDjos/EeUxY/7+5XKY9tLW08dfgoWWNtqMfQIrxpKuWGM0Xp8zra/Gl8irsNPtucTYwxsF9tFdomEPNlVKlf1TPIODXOhpp37vR/jCyUlpOf63rvZfLvPW2QdG6gTxsfEnqS83U173GzpPdXOq0059w0m8d2aX65YlsFKwfIWOgyzt0/Cn9LWNhRAvHQmsaXSi07cI+L/jW//fGZmIbFzYi04Tuuzja6+fQM6Z+zEiEyNcDj2In5QmrnPF/y1f+4ZyvGa1z98s8Xa9utYy6REmRgIEAreYfhaTyPQIEyNXU/b3PNOhkY29W9s666BHJhgJBAiMTBhcHL7gFjdxn8wzHbq2utca3UfRaUKBQPbjP9//Cr79Rrc/bPbnwlidkncvDGT/PswaWI2Wr9BxsM72EUK8UIo/sEaCuJN3cDLyd6qbU6t5vjtIlilPLxZpQyHEszDjxW7KGBYjhBDPQPEH1rkx/P3JtUsL//VfuMCF1TzfP5Z2m84XkrShEGJD6ETDFzl93IV/abhFJW3+B5tdMCHEC674A6sQQogisUjkyu+xagpTjZ3j9n3sPf7X9NtLCyHEMyCBVQghxCoUGNcqhBDPgARWIYQQQghR1CSwCiGEEEKIoiaBVQghhBBCFDUJrEIIIYQQoqhJYBVFIkZk/AahB/ElwvXIHS55hxjbgLvbbOS2xNqtZz8U/z7UiU6H+CGUevvQbI+t1jzTo6NMzBXD1CaDZdFnGbvkT7/N9TMVIzJxY0tNAMt+PBfTvhai+EhgzSdxZ5wrl0M8yPEdEr9NaxlNA5PPt2wvjFlG3e3YqiwoVYUjEAGeMNq9B6VMVHZfZ30RZSO3JdZuPfuhmPfhLKN9x3mnthxNKcyOANGsj62SPsnFk+9QW16CUk14wpt4r6cno/Qd/ResZs1QWZK3rtYaPISfQ/ZavNPLXk2hVDkHBya2QGjNOJ5X2b5CvKwksK6gMz/cybbkPa6VQpkdBHJ8h0QDDszKjM0z8XyL+UJJfoEnA2uMyI3POdx4hLM3Hq3yBKQTvfff3F3qpVjPtkR2mW1sxHr2Q7Hvw+XvjOVwmu2xwttJb9cJPDZzcYQY/Ufc9dsMlUV/+AOnW97h6MBtFja2EFmPO33qe45aS+Pf1dluEbvhch3/Rj8XWY5n3Xj7rr+cQmxNElgLiAYcmPME1sUJH586nLiDv2zcm4Y92IrhJPXcRAl7mlIC63o2NYanufUlartNIG28QvyHa3o4zfZY/o1ktmsRBdZiKEve4y7+A6Gs1cfsZpVjXZ+LZ9C+8jkVL5gNDqzJBaWvEZp+XuOXnq1CgfWZkMC6NvovBLvq0F6qtnvOpI2zWndgzdquRRASl2xyWQocd3pkBNfBQ/SG1vmDd63lWPfnYoPbVz6n4gW0YYFVj9ykv/11zEuX0suo7RwkHN0qlyPmCQf+Ny6nA4fj93Sf/Zbg1HyOwBplOvgtHo8n8Xce/9jjAtvXiU6N4D3bjcPhwOHowuX5G2P3r+H+8BzByCKgMzd2iX5XK1VqN62u/0x5Dw8ez7cEp4vjy0ePXOdc29vYWv6NE0casFa3cHpo0uClz3nCQ3/EXltLnW0/dbb3cLTWLAfW6BSjvs9xNO+mfMXJfp7wcA9HbPXU296gyrKT+o6vCEUeEnTuRVMKpSxU1R3A1vgpwzP38m9r6AyH6uuot71JTfl2rM2/ZyD0CJ15pkN/Y8DVQZO1FsfQTS4636ZCUyjz67QP/JO5VbSHHrmD3/0JLTV7ODF4id7mSjTt/8H0yl7+xWbDZnsLe8eXBH+JAToL4/+Hky1vYWt24B2fI79cbZI+oSN3XeP/L1zf2extPLtYuA2y7lODbbye1ybrfrGLButu6g7UUG7ZTVPH/8K9is9Uof27vsCaq11/XAoxfaFrnDu8J/79an6DTt/d9G3qjwj1d1JftZNys4ZW8TafeP9JxNDXb6FjA5YDVSOui1/zScMuNKXQyvfT0X8z5X3mmR79jp6OJqxN/cuX5w2Vb5Wf7cRxBzNcdp3OKG+MSKif9n2NtJ44xiHbfpqaT/LtVOER0Ln3da79lL18Q5O3snzmX+Hd/x3g+orj2UD76jPc8JykpcGGreFj/A9jsDCO39WJvcGGzXYYd2guz/G0aGA/rL3dhHjWNiaw6jNccexJfEBS/0qpdl7lyYa8yTMUvctg+2to5t00tX2Iw3GCjkP1lJft5/ixRkpXBNY5Qu7D2Gw2bLY3qDJbCoxhnSd88WPqLSbMNe/Q4TiF64yTDnttIuAnfwXHeOj/mIa6KszJLxqbLeUv+YW0yRbv4H7TgtrTy5gOMIO/bSeq7Hf4l04iucwTHjyG9VeHGJiM98LrkQBdtdsSgTVMyNdHT9ueLBNW5hg/38rOPZ8RjMSAGDPeQ5QojbK2i8yu6KWI5N+Wx46l4gjecOJqQHQMT3M5ytJEb+gB0yE/rqbtKGXCXNGE88IQgaEvabOWokwH8UwuGGsP/R6BfhdtNdtQyoSl9gP+2HOMeouZvT1/5bvDu1BqBy3eeykn3Gl8rdU0esYLjNks1CZG6hohHgCN1DdHT1DeNniUYz8Yec+Zdbx2AYjxcOgEVu11ukcfAzFmhz9ip1Kochttjj/imyhwNcjA8b7+IQHZ2jX52Hastg84481x/BEh1Ptr9nZ+z/2oDtFxBlp2opSVdv9U4eOn4LGRWhYNc00r3e4++nqOUW/RUGon73on0dF5Evqec912KtLGkxop32o/2wU8vYZzVyVt/plEnW7jbmiid2y9+zpXOTIez/mZVyjzIf6/FcezkfYlx1jXaXyt5RlXqLKV08B+WGu7CfEcbExgnfXRWpIZVhN/pUfxPy7mXtb4r1GT9RiD4dQPZYzInX5aK0x5J13FvxjK8wRWnYU7bhot5TS4Rlb2KHiPUJH55VfsQwJiN3G9Woq2z824DrDAhLvR0CV9fWaQw2Ul7HJe4+nSo5mTrrKf7PVJD42mjGD35CrO6jKsjstEcpxMcm8rc9a5zsLoaaqVQtvby53FCAFHFUpV0jH8KPGcOUKuuvTHDLVHcls7l08GyfcMudijKUyNHiaTFZv10Wp+H1+BHwCF28RoXVPLmK++OU7YBtoge4Az1sZrf23yZJ5S3lgQ5w6twOc6xRrrtnGBdR+uUPJn/zxjvftRqpxW3zSQnCW/PyVULE/4Wi5zdsaPjWRZUt8nJfzvdhFKHqrJ80EisBop31o/2zmFPdjUNva4RhMTv6JMeT/mdLDAlbCC+9pgYAVyf+azHRtG2zff++QPrIaOk7W2mxDPwcYE1rAHW7awmtZ7WKRmfbSWVHDYl60nYoFJz0FM6wqsvzDcUZUeRlI9vcHZ908zNL2FAmsqfZYx/+d01G83EFhjzHh/iynlZBu3cgzryi/0KGFPM5pqxD2Ra+6x0cAaY2rgHbRsqzskw4zaT+/YgywngmRZc6wMkbM9sp1Ukq+5j+/wLpR6FUfgEbDIrO8DyjuGClydMNImRus6n6OMmfU1EBxytEH+0Jm/jdf+2kkGmspQaW2UqMNaxqavom4bF1hTH8usXyLAauXUHLBlXJGxYfu1m1DOq7mrOTZy/VC5TnelKf3xaACHORlYjZRv7Z/tnJ6O0L27ND40rf3Lta0Jm3VfryWwrvzM5w6shdp3rYHV4HGyEe0mxDOyMYH16TWcu0xZA+vyL/TiFF8zMPeX4GLIxe51BdYJPLZfsdt1E8PNsBUCq/6I0MBJDh48Qd/wbUJ9RiZN5foCNxJYk6/N1y5GA+tjgs5Xc4TO5DaqcATuGQ+sBdsjT2BF52mwi11Ko+zwIDP6PbwtbybCaz5G2sRoXSM5yriKwFqgDTYnsCZ+dKoyGty3469dvIlrd2nKkAkD1lC35xNYE21QUrg3fqXVHBuFglpKz11aYDVSvrV/tnPTiYYH6awti5+LzK/TnjbWNt9L8+3r5xxYV7TvWgOr0eNkHe0mxDO2QZOuokxd7MSqZQRWrYbOoekiXDdx2WLIxe60yzDpCq8S8BIG1sSYX9MeF6EFHeOz/JNfrJk3WlhNYF15eW2Z0cCavMyXbSH65DbqcIWmjQVWQ+2RL7AC+jiexjKU9hZf/PCfNL96mtGFQp8cI21itK5zOcpoMLAaaIPNCaxAdJKh7oNUmKw0f/Lv9HTYqG4+yw2jd81aY92ea2BVNTiDK48rPXKfeznruZpjo0CgMv0W70wsWfGVgTVv+R6t+bNdUHSSYddhaswaSn/PHt0AAAe5SURBVO2g0X0r/9qwBff1JgXWpfZdZ2A1epystt2EeA42cFmreaYC5+hs2o1ZK6fW/nHGrM0i9fQazl2WlDE7KfQZhjt3r3MM6zx3eg+kfAGueBOijx6RNsx3aoAmLXmiKDY68wEH27MGQKNDAhQlLV5mlupsJAAkX6thafYwnrr6xMIt3IdcBJ+OGwysyR7NLGP89MSkhl1dBJ8aCURG26NAYEXnSeAkO5WJ7eW7eKP3loEfOEbaxGhd9RxlNBJYjbXB5gXWuwwe/x1/uDLJw7vjTK9q5ZK11+35BNbkZf1k73zKJqMTeN8/mjI5a2XdjB8buSbbJXqr373A/eTr0wKrkfLNrfmznVP4K95f6iTQiYYvcLjChKrsZjTn7xQj+/o5B9YV7ZvteY8Y7qgsEFgNHidrajchng+5cUCyd9j0Gm0Dt5YvfUTvE3R/QI1lG9q6AivoDy/RaS3DetidPiZIn2XMd4qmivrEDOaE2HW6K7cvX8KMP0hk/AcGTv8bDt/9Ndd2/RaZ9b1PiVKYbD38I7JAZOw7HHUW4hNd7nNvLEyuqK0//CvtFSaU9hrtg4mleaI/4mnejlKl1Dj+wsjE/2Uu212CnlzFWV2KUiVUNDk577/M8OCf6di3P9GT/zNe+3aUis8I1yP/4NLIg+zb0sP43qtCqd10Ds8kfljpLNw+yz5TFe/5wuhZTzjJE1gyMBhtj0KBFVgYxbVnG0p7C/f40+zPyVSwTYzWFbKfYDPrm62Np3hUsA0m+SXrnZ+MvGeuu0YZeW38B6NW1YrL6+dKIEAgECAQuM6EoR5WY/s3su7Amq1dr9KXWOpoeWznykC+9JlSZdS29TA4fIXA8DecsdfzVqGeMcPHRraglJgUZLHjSV16LS2wGizfGj/bOX96hD3YrF0EM+4aZrJ7ydWHa2xfB/BkLUe28v3Ilayf+WzHs9H2nSXgqEapnbQMjBPVI4z7u2mwaCiVOhcjS3kG3bQV2g952y1CqLcJi/YaRy/eK/7OKPHCkcAKwDxh30fUmjWUuSq+VqNWQkXzWYKDxxNLT2nscAaJsXyv7OyTzBRqh5Ng2rlQJxr+G91NlWiqhPKaN7EdqKFc0zDXHMY1nLl+aZQpv4Naswlz1RuJ5yqUVkHdkR6Gw5s8EH5ulN6GHSSXLqtq+TND549QplR6EM0qRuTGWZorSpbaS6uyc6K1Jl6/1nbeO/Yxn9lfif/P2sqZr4NMx5NX+viqFWtSJpcwiu8vS8PH9J0/R3fWbQHRn7jo2I/FvIfW7s/p6/mQhuoGHBd/Isrj+ISLOgtKmaiwn+Lr4Bi3Vzw2hV6oPc7/F4Oez7BXmFCqFGvrH+j7S0o5lsQnn5Q0Dyz3VhVUqE2M1BUwXN8wM2lt/Kf4pfW8bWCm4n928smK/WDkPTvo7Mh2PBgt7yT3sw1XUgqlVdL8xc2cP66MHe9mKv7nh3zW+mp8Wb8KO92ev3DhgoczaY9dYizvLTIzjl3bUc78R1fimLFQ1/E5/rGfs9R5Cj3LZ0pp1bS4rxsbe1jw2ID4d+RJ6svNlNf9hs5T3ZzqtFPfcBLvndn08JIRWLN95leWb7Wf7T/lH9IR9mBTpVTZP8UzOMiFnnbq936Er9B3Z8Hvth+5n7UcGeX7H//KiTPOLJ/5x4z5PVm+k4y2r040/B3tyVvRqjJqO/voO/ZK4vvzM7x3Hudor6eF90PednuAv60SpUp51XUT6XAVz5sE1lTRaUKBS/j+a5iRicgz+AWpE52+RcD/Hd/6/17wPfTIBCPD/4XXN0RgZKK4Br7rESZGrqbUYZ7p0IjxO5zpESZGAol66UQf/MwDw5dq55kOXSMQuJXl8m68ja+Gpg3exCDRzoHA+tp4ve0BxE8IezPWYzUqX5ukFnMD6pqrjTekDTbaPOHBjzjY5eNGMEAgMIRvoB+Px0Nf70c07DpibLLSc6nb6o/dlWUMFDwGcr/cyLGRvJthIPf314rAuprybexnO/6dHiCwmtcU3Ne5yrHO/QcYal9Yqlf8OTEiWYe65PucFtgPudotOk2o2M5F4qVR/IE1EsTtcCTuDmXg71Q3p1bzfHeQZ3wzv2djNe1yyIxSZg696G2yxemTHhorTxJ4ImeDjaHzJNhFdUnKhKC0f//EwG8cBm52IVZlxovdpCht8yOrdwohNkrxB9a5Mfz9noxblOb+679wgQureb5/rPAlwWK0mnbpOUJt7RF6XvQ22XJ05kLneLd+P++0HaO1rsrAna2EcckbUuyi2XWJ8aVLyPHx4OdPtnE87/AVYYxONHyR08dd+MPzicvKlbT5H2x2wYQQL5DiD6xCvLBiPPR9gCUxXs7a/h3hNVzKFbnpkZH4PdzTxq+WUF7fwbngfQmrG2KRyJXfY9UUpho7x+372Hv8r0zJoSyE2EASWIXYVIkxe+sa9ybyS4wdX9XqAGJ1DI69FEKINZLAKoQQQgghipoEViGEEEIIUdQksAohhBBCiKImgVUIIYQQQhQ1CaxCCCGEEKKoSWAVQgghhBBFTQKrEEIIIYQoahJYhRBCCCFEUZPAKoQQQgghipoEViGEEEIIUdQksAohhBBCiKImgVUIIYQQQhQ1CaxCCCGEEKKoSWAVQgghhBBF7f8HJ6Ru2JtPf7cAAAAASUVORK5CYII=)"
      ]
    },
    {
      "cell_type": "code",
      "metadata": {
        "id": "01h6us9ZU07k"
      },
      "source": [
        "class Founder:\n",
        "    # Class constructor\n",
        "    def __init__(self, name, gender):\n",
        "        # Object properties\n",
        "        self.name = name\n",
        "        self.gender = gender"
      ],
      "execution_count": null,
      "outputs": []
    },
    {
      "cell_type": "code",
      "metadata": {
        "id": "2qcnhuJRa2kA"
      },
      "source": [
        "F1 = Founder(\"Elon Musk\", \"Male\")"
      ],
      "execution_count": null,
      "outputs": []
    },
    {
      "cell_type": "code",
      "metadata": {
        "colab": {
          "base_uri": "https://localhost:8080/"
        },
        "id": "uLtyV5D5VVi1",
        "outputId": "6a514739-0b04-4817-d1cb-d65365734ed8"
      },
      "source": [
        "# Multiple parameters\n",
        "print('Class attributes')\n",
        "print(Founder.__name__)\n",
        "print(Founder.__module__)\n",
        "print(Founder.__doc__)\n",
        "print(Founder.__dict__)\n",
        "print('Object attributes')\n",
        "print(F1.__class__)\n",
        "print(F1.__dict__)"
      ],
      "execution_count": null,
      "outputs": [
        {
          "output_type": "stream",
          "text": [
            "Class attributes\n",
            "Founder\n",
            "__main__\n",
            "None\n",
            "{'__module__': '__main__', '__init__': <function Founder.__init__ at 0x7fe3213f3d90>, '__dict__': <attribute '__dict__' of 'Founder' objects>, '__weakref__': <attribute '__weakref__' of 'Founder' objects>, '__doc__': None}\n",
            "Object attributes\n",
            "<class '__main__.Founder'>\n",
            "{'name': 'Elon Musk', 'gender': 'Male'}\n"
          ],
          "name": "stdout"
        }
      ]
    },
    {
      "cell_type": "markdown",
      "metadata": {
        "id": "QCW_292tNv0n"
      },
      "source": [
        " \n",
        "   **c) Comment in classes**"
      ]
    },
    {
      "cell_type": "markdown",
      "metadata": {
        "id": "YAI5gI59V7Nd"
      },
      "source": [
        "In python classes, triple double-qoutes are use to signify comments."
      ]
    },
    {
      "cell_type": "code",
      "metadata": {
        "id": "5CDyfUiXV5da"
      },
      "source": [
        "class Person:\r\n",
        "      \"\"\" An example class to hold a persons name and age\"\"\"\r\n",
        "      def __init__(self, name, age):\r\n",
        "        # Object properties\r\n",
        "        self.name = name\r\n",
        "        self.age = age"
      ],
      "execution_count": null,
      "outputs": []
    },
    {
      "cell_type": "markdown",
      "metadata": {
        "id": "4KaLK5mEWaSs"
      },
      "source": [
        "Further example of classes."
      ]
    },
    {
      "cell_type": "code",
      "metadata": {
        "id": "RWGvya66Wq5m"
      },
      "source": [
        "class Person:\r\n",
        "\"\"\" An example class to hold a persons name and age\"\"\"\r\n",
        "      def __init__(self, name, age):\r\n",
        "        # Object properties\r\n",
        "        self.name = name\r\n",
        "        self.age = age\r\n",
        "      def find_age_group(self):\r\n",
        "          if self.age < 12:\r\n",
        "             print(self.name, \"you are a baby.\")\r\n",
        "          elif self.age >= 14 and self.age <= 18:\r\n",
        "               print(self.name, \"you are a teenager.\")\r\n",
        "          else:\r\n",
        "              print(self.name, \"You are an adult!\")\r\n"
      ],
      "execution_count": null,
      "outputs": []
    },
    {
      "cell_type": "code",
      "metadata": {
        "id": "O0vMpCBKXsZw"
      },
      "source": [
        "boss_baby = Person(\"Newton\", 26)"
      ],
      "execution_count": null,
      "outputs": []
    },
    {
      "cell_type": "code",
      "metadata": {
        "colab": {
          "base_uri": "https://localhost:8080/"
        },
        "id": "QP_6wmZZYEnm",
        "outputId": "ac255dc9-8918-41b3-94a0-f9c72a4de321"
      },
      "source": [
        "boss_baby.find_age_group()"
      ],
      "execution_count": null,
      "outputs": [
        {
          "output_type": "stream",
          "text": [
            "Newton You are an adult!\n"
          ],
          "name": "stdout"
        }
      ]
    },
    {
      "cell_type": "markdown",
      "metadata": {
        "id": "HQ9TptcdWYH2"
      },
      "source": [
        "##  **III)  Class Inheritance**\n",
        "    "
      ]
    },
    {
      "cell_type": "markdown",
      "metadata": {
        "id": "LFGWkhWIeKvP"
      },
      "source": [
        "Class inheritance in python is a type of object oriented programming where a class inherits the attributes and methods of another class.\r\n",
        "\r\n",
        "**Parent class** is the class being inherited from, also called base class or superclass.\r\n",
        "\r\n",
        "**Child class** is the class that inherits from another class, also called derived class or subclass.\r\n",
        "\r\n",
        "***source:*** https://www.w3schools.com/python/python_inheritance.asp"
      ]
    },
    {
      "cell_type": "code",
      "metadata": {
        "id": "I4GBETqVWiab"
      },
      "source": [
        "class Fruits():\n",
        "      \"\"\"\"An example of inheritance in python classes\"\"\"\n",
        "      def __init__(self, name, amount):\n",
        "          self.name = name\n",
        "          self.amount = amount"
      ],
      "execution_count": null,
      "outputs": []
    },
    {
      "cell_type": "code",
      "metadata": {
        "id": "fsjzg_osgwJS"
      },
      "source": [
        "fruit1 = Fruits(\"Mango\", 15)"
      ],
      "execution_count": null,
      "outputs": []
    },
    {
      "cell_type": "code",
      "metadata": {
        "id": "o631qYwsg8Bw"
      },
      "source": [
        "#Inheritance without additional attribute\r\n",
        "class NewFruits(Fruits):\r\n",
        "      pass   "
      ],
      "execution_count": null,
      "outputs": []
    },
    {
      "cell_type": "code",
      "metadata": {
        "colab": {
          "base_uri": "https://localhost:8080/"
        },
        "id": "Xxcpq2kThqSX",
        "outputId": "8f882615-7b57-4afa-d82d-cb76a871ecb5"
      },
      "source": [
        "fruit2 = NewFruits(\"Apple\", 5)\r\n",
        "print(fruit2.name)"
      ],
      "execution_count": null,
      "outputs": [
        {
          "output_type": "stream",
          "text": [
            "Apple\n"
          ],
          "name": "stdout"
        }
      ]
    },
    {
      "cell_type": "code",
      "metadata": {
        "id": "UVr47VgQjH6D"
      },
      "source": [
        "#Inheritance with additional attribute\r\n",
        "class NewFruits1(Fruits):\r\n",
        "      def __init__(self, name, amount, qty):\r\n",
        "          super().__init__(name, amount)\r\n",
        "          self.qty = qty          "
      ],
      "execution_count": null,
      "outputs": []
    },
    {
      "cell_type": "code",
      "metadata": {
        "colab": {
          "base_uri": "https://localhost:8080/"
        },
        "id": "pojCQbmKlSmq",
        "outputId": "c48edf47-8d0a-4ced-8992-23cb2a919dc6"
      },
      "source": [
        "fruit3 = NewFruits1(\"Banana\", 6, 3)\r\n",
        "print(fruit3.qty)"
      ],
      "execution_count": null,
      "outputs": [
        {
          "output_type": "stream",
          "text": [
            "3\n"
          ],
          "name": "stdout"
        }
      ]
    },
    {
      "cell_type": "code",
      "metadata": {
        "id": "EfHj1COHXkbe"
      },
      "source": [
        "class Rectangle():\n",
        "      \"\"\"Area, Perimeter and Volume of a Rectangle\"\"\"\n",
        "      def __init__(self, width, height):\n",
        "          self.width = width\n",
        "          self.height = height\n",
        "      def area(self):\n",
        "          return self.width * self.height\n",
        "      def perimeter(self):\n",
        "          return 2 * (self.width + self.height)"
      ],
      "execution_count": null,
      "outputs": []
    },
    {
      "cell_type": "code",
      "metadata": {
        "colab": {
          "base_uri": "https://localhost:8080/"
        },
        "id": "1r1bV0Z_o1ed",
        "outputId": "fda7cacc-a509-493a-b376-befb244db048"
      },
      "source": [
        "area0 = Rectangle(6,5)\r\n",
        "print(\"Area: \", area0.area())"
      ],
      "execution_count": null,
      "outputs": [
        {
          "output_type": "stream",
          "text": [
            "Area:  30\n"
          ],
          "name": "stdout"
        }
      ]
    },
    {
      "cell_type": "code",
      "metadata": {
        "id": "yCLIHcgppfAw"
      },
      "source": [
        "class RectangleV(Rectangle):\r\n",
        "      def __init__(self, width, height, length):\r\n",
        "          super().__init__(width, height)\r\n",
        "          self.length = length\r\n",
        "      def volume(self):\r\n",
        "          return self.width*self.height*self.width"
      ],
      "execution_count": null,
      "outputs": []
    },
    {
      "cell_type": "code",
      "metadata": {
        "colab": {
          "base_uri": "https://localhost:8080/"
        },
        "id": "9kuGldibqXhV",
        "outputId": "0229b380-190a-49f3-eb67-943818b37b7e"
      },
      "source": [
        "volume_m = RectangleV(6,5,8)\r\n",
        "print(\"Volume: \", volume_m.volume())"
      ],
      "execution_count": null,
      "outputs": [
        {
          "output_type": "stream",
          "text": [
            "Volume:  180\n"
          ],
          "name": "stdout"
        }
      ]
    },
    {
      "cell_type": "markdown",
      "metadata": {
        "id": "LeRDBa1ao83D"
      },
      "source": [
        "### **Excercises**\n"
      ]
    },
    {
      "cell_type": "markdown",
      "metadata": {
        "id": "1HOo9nFUpC2O"
      },
      "source": [
        "**(1)** When analysing data collected as part of a science experiment it may be desirable to remove the most extreme values before performing other calculations. Write a function that takes a list of values and an non-negative integer, n, as its parameters.\n",
        "The function should create a new copy of the list with the n largest elements and the n smallest elements removed. Then it should return the new copy of the list as the function’s only result. The order of the elements in the returned list does not have to match the order of the elements in the original list.\n",
        "Write a main program that demonstrates your function. Your function should read a list of numbers from the user and remove the two largest and two smallest values from it. Display the list with the outliers removed, followed by the original list. Your program should generate an appropriate error message if the user enters less than 4 values."
      ]
    },
    {
      "cell_type": "markdown",
      "metadata": {
        "id": "xt-k9_W1M8dL"
      },
      "source": [
        "### **References**\n",
        "1. A Beginners Guide to Python 3 Programming by John Hunt\n",
        "2. Python Notes for Professionals by goalkicker.com\n",
        "3. Fundamentals of Programming Python by Richard L. Halterman\n",
        "4. The Python Workbook by Ben Stephenson"
      ]
    }
  ]
}