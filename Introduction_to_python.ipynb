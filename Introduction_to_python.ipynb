{
  "nbformat": 4,
  "nbformat_minor": 0,
  "metadata": {
    "colab": {
      "name": "Introduction_to_python.ipynb",
      "provenance": []
    },
    "kernelspec": {
      "name": "python3",
      "display_name": "Python 3"
    }
  },
  "cells": [
    {
      "cell_type": "markdown",
      "metadata": {
        "id": "UpSBKjo_NPO-"
      },
      "source": [
        "# **INTRODUCTION TO PYTHON PROGRAMMING LANGUAGE**\n",
        "These introduction to python series is organized by Renewable Africa 365.\n",
        "We will be talking about the following:\n",
        "\n",
        "\n",
        "1.   Introduction to python language\n",
        "2.   Iterable and data structures\n",
        "3.   Functions or method definition\n",
        "4.   Object Oriented Programming in python\n",
        "5.   Introduction Python Libraries For AI\n",
        "6.   More Python built-in Functions \n",
        "\n",
        "##  **Introduction to python language**\n",
        "    i)   Python as interpreted Language\n",
        "    ii)  Python variables and data types\n",
        "    iii) Python objects\n",
        "    iv)  Python operators; arithmetic(unary and binary), relational and logical\n",
        "    v)  Conditional construct(if, if-else, if-elif-else) , conditional expression\n"
      ]
    },
    {
      "cell_type": "markdown",
      "metadata": {
        "id": "eESHg-u3PvWt"
      },
      "source": [
        "#### **(i) Python as interpreted Language**\n"
      ]
    },
    {
      "cell_type": "markdown",
      "metadata": {
        "id": "risJD2KzRVHA"
      },
      "source": [
        "Python is a popularly used high-level programming language for general-purpose programming, created by **Guido van Rossum** and it was first released in 1991. \n",
        "\n",
        "Python features a dynamic type system and automatic memory management\n",
        "and supports multiple programming paradigms, including object-oriented, imperative, functional programming, and procedural styles. It has a large and comprehensive standard library.\n",
        "* Two major versions of Python are currently in active use:\n",
        "   * Python 3.x is the current version and is under active development.\n",
        "   * Python 2.x is the legacy version and will receive only security updates until 2020. \n",
        "No new features will be implemented. Note that many projects still use Python 2, although migrating to Python 3 is getting easier.\n",
        "You can download and install either version of Python here. \n",
        "See Python 3 vs. Python 2 for a comparison between them. In addition, some third-parties offer re-packaged versions of Python that add commonly used libraries and other features to ease setup for common use cases, such as math, data analysis or scientific use. See the list at the\n",
        "official site."
      ]
    },
    {
      "cell_type": "code",
      "metadata": {
        "id": "v_ms0GDom37t",
        "outputId": "7faab647-7ed4-4357-b290-b51fddf1ff04",
        "colab": {
          "base_uri": "https://localhost:8080/",
          "height": 35
        }
      },
      "source": [
        "from platform import python_version\n",
        "print(python_version())"
      ],
      "execution_count": null,
      "outputs": [
        {
          "output_type": "stream",
          "text": [
            "3.6.9\n"
          ],
          "name": "stdout"
        }
      ]
    },
    {
      "cell_type": "markdown",
      "metadata": {
        "id": "GqIf9EGDRYMT"
      },
      "source": [
        "#### **(ii) Python variables and data types**\n",
        "#### Variables and Assignments\n",
        "According Andrew NG, Variables are containers for holding data and they're defined by a name and value. \n",
        "\n",
        "### **x = 5**\n",
        "#### **x is the variable and 5 is the value.**\n",
        "\n",
        "* numeric values\n",
        "* strings\n",
        "* identifiers\n",
        "* reserved words\n",
        "\n",
        "### Numeric Values\n",
        "Numbers have four types in Python. Int, float, complex, and long.\n",
        "* int_num = 10 #int value\n",
        "* float_num = 10.2 #float value\n",
        "* complex_num = 3.14j #complex value\n",
        "* long_num = 1234567L #long value"
      ]
    },
    {
      "cell_type": "code",
      "metadata": {
        "id": "GEUfxEK_NB78",
        "outputId": "e984c44f-2fe6-41f8-de64-cc5be33267d7",
        "colab": {
          "base_uri": "https://localhost:8080/",
          "height": 35
        }
      },
      "source": [
        "#integer value\n",
        "i_num = 10\n",
        "print(i_num)\n",
        "print(type(i_num))"
      ],
      "execution_count": null,
      "outputs": [
        {
          "output_type": "stream",
          "text": [
            "10\n"
          ],
          "name": "stdout"
        }
      ]
    },
    {
      "cell_type": "code",
      "metadata": {
        "id": "uEXjwfJ7dQAo"
      },
      "source": [
        "#float value\n",
        "f_num = 10.5\n",
        "print(f_num,type(f_num))"
      ],
      "execution_count": null,
      "outputs": []
    },
    {
      "cell_type": "code",
      "metadata": {
        "id": "8xv4QCtudeNq",
        "outputId": "9df0a054-f0a4-4a83-9bd8-58fa6c28f700",
        "colab": {
          "base_uri": "https://localhost:8080/",
          "height": 35
        }
      },
      "source": [
        "#integer value\n",
        "c_num = 3.142j\n",
        "print(c_num, type(c_num))"
      ],
      "execution_count": null,
      "outputs": [
        {
          "output_type": "stream",
          "text": [
            "3.142j\n"
          ],
          "name": "stdout"
        }
      ]
    },
    {
      "cell_type": "code",
      "metadata": {
        "id": "2EGCk_QTdqN-",
        "outputId": "34e5d878-393f-4bfe-ee1e-2fda2f6a8047",
        "colab": {
          "base_uri": "https://localhost:8080/",
          "height": 135
        }
      },
      "source": [
        "#integer value\n",
        "l_num = 12345678L\n",
        "print(l_num)\n",
        "#NB: There is no 'long integer' in Python 3 anymore."
      ],
      "execution_count": null,
      "outputs": [
        {
          "output_type": "error",
          "ename": "SyntaxError",
          "evalue": "ignored",
          "traceback": [
            "\u001b[0;36m  File \u001b[0;32m\"<ipython-input-5-fa46a186c6ca>\"\u001b[0;36m, line \u001b[0;32m2\u001b[0m\n\u001b[0;31m    l_num = 12345678L\u001b[0m\n\u001b[0m                    ^\u001b[0m\n\u001b[0;31mSyntaxError\u001b[0m\u001b[0;31m:\u001b[0m invalid syntax\n"
          ]
        }
      ]
    },
    {
      "cell_type": "code",
      "metadata": {
        "id": "iEurgvrwrS9C"
      },
      "source": [
        "# int variables\n",
        "a = 5\n",
        "b = 3\n",
        "print (a + b)"
      ],
      "execution_count": null,
      "outputs": []
    },
    {
      "cell_type": "markdown",
      "metadata": {
        "id": "99Aa9y1RhbFP"
      },
      "source": [
        "### Strings"
      ]
    },
    {
      "cell_type": "code",
      "metadata": {
        "id": "IPieM-I5iHIu"
      },
      "source": [
        "a_str = 'Hello World'\n",
        "print(type(a_str))"
      ],
      "execution_count": null,
      "outputs": []
    },
    {
      "cell_type": "code",
      "metadata": {
        "id": "xM6XbmNRhPMa"
      },
      "source": [
        "a_str = 'Hello World'\n",
        "print(a_str) #output will be whole string. Hello World"
      ],
      "execution_count": null,
      "outputs": []
    },
    {
      "cell_type": "code",
      "metadata": {
        "id": "KyhGXouVh5qs"
      },
      "source": [
        "a_str = 'Hello World'\n",
        "print(a_str[0]) #output will be first character. H"
      ],
      "execution_count": null,
      "outputs": []
    },
    {
      "cell_type": "code",
      "metadata": {
        "id": "sssCcrxkh6ZR"
      },
      "source": [
        "a_str = 'Hello World'\n",
        "print(a_str[0:5]) #output will be first five characters. Hello"
      ],
      "execution_count": null,
      "outputs": []
    },
    {
      "cell_type": "markdown",
      "metadata": {
        "id": "uSFIIuhAi21D"
      },
      "source": [
        "### **Dictionary Data Type**\n",
        "* Dictionary consists of key-value pairs. \n",
        "* It is enclosed by curly braces {}.\n",
        "* The stored values can be accessed\n",
        "using square brackets[]."
      ]
    },
    {
      "cell_type": "code",
      "metadata": {
        "id": "lyyjn8sxi5sT"
      },
      "source": [
        "dic={'name':'red','age':10}\n",
        "print(dic) #will output all the key-value pairs. {'name':'red','age':10}"
      ],
      "execution_count": null,
      "outputs": []
    },
    {
      "cell_type": "code",
      "metadata": {
        "id": "iiLZo8KMjdet"
      },
      "source": [
        "dic={'name':'red','age':10}\n",
        "print(dic['name']) #will output only value with 'name' key. 'red'"
      ],
      "execution_count": null,
      "outputs": []
    },
    {
      "cell_type": "code",
      "metadata": {
        "id": "d88jkVuojdtM"
      },
      "source": [
        "dic={'name':'red','age':10}\n",
        "print(dic.values()) #will output list of values in dic. ['red',10]"
      ],
      "execution_count": null,
      "outputs": []
    },
    {
      "cell_type": "code",
      "metadata": {
        "id": "eyO1BcETjd6G"
      },
      "source": [
        "dic={'name':'red','age':10}\n",
        "print(dic.keys()) #will output list of keys. ['name','age']"
      ],
      "execution_count": null,
      "outputs": []
    },
    {
      "cell_type": "markdown",
      "metadata": {
        "id": "76CBZ2FNleFW"
      },
      "source": [
        "### **List Data Type**\n",
        "* A list contains items separated by commas and enclosed within square brackets [].\n",
        "* lists are almost similar to arrays.\n",
        "* One difference is that all the items belonging to a list can be of different data type."
      ]
    },
    {
      "cell_type": "code",
      "metadata": {
        "id": "bRYPeFvXlwL0"
      },
      "source": [
        "list = [123,'abcd',10.2,'d'] #can be an array of any data type or single data type.\n",
        "list1 = ['hello','world']\n",
        "print(list) #will output whole list. [123,'abcd',10.2,'d']\n",
        "print(list[0:2]) #will output first two element of list. [123,'abcd']"
      ],
      "execution_count": null,
      "outputs": []
    },
    {
      "cell_type": "code",
      "metadata": {
        "id": "zO8SP15_l2Ph"
      },
      "source": [
        "print(list1 * 2) #will gave list1 two times. ['hello','world','hello','world']\n",
        "print(list + list1) #will gave concatenation of both the lists."
      ],
      "execution_count": null,
      "outputs": []
    },
    {
      "cell_type": "code",
      "metadata": {
        "id": "V0eOrnq1rLFx"
      },
      "source": [
        "# string variables\n",
        "a = \"8\"\n",
        "b = \"3\"\n",
        "print (a + b)"
      ],
      "execution_count": null,
      "outputs": []
    },
    {
      "cell_type": "markdown",
      "metadata": {
        "id": "SWl4wjP5kEE3"
      },
      "source": [
        "### **Tuple Data Type**\n",
        "* Lists are enclosed in brackets [ ].\n",
        "* Elements and size of list can be changed, while tuples are enclosed in\n",
        "parentheses ( ) and cannot be updated. \n",
        "* Tuples are immutable."
      ]
    },
    {
      "cell_type": "code",
      "metadata": {
        "id": "Vyi3FjV5kl5D"
      },
      "source": [
        "tuple = (123,'hello')\n",
        "tuple1 = ('world')\n",
        "print(tuple) #will output whole tuple. (123,'hello')\n",
        "print(tuple[0]) #will output first value. (123)\n",
        "print(tuple + tuple1) #will output (123,'hello','world')\n",
        "tuple[1]='update' #this will give you error."
      ],
      "execution_count": null,
      "outputs": []
    },
    {
      "cell_type": "markdown",
      "metadata": {
        "id": "sZjRrvyojCtJ"
      },
      "source": [
        "#### **(iii) Python objects**"
      ]
    },
    {
      "cell_type": "markdown",
      "metadata": {
        "id": "GP-qoRD4zGHT"
      },
      "source": [
        "Python is object oriented. Most modern programming languages support object-oriented (OO) development to one degree or another.\n",
        "\n",
        "An OO programming language allows the programmer to define, create, and manipulate objects. \n",
        "\n",
        "Objects bundle together data and functions. Like other variables, each Python object has a type, or class. The terms class and type are synonymous.\n",
        "\n",
        "##### **An object is an instance of a class.**\n",
        "\n",
        "In object-oriented programming, rather than treating data as passive values and functions as active agents that manipulate data, we fuse data and functions together into software units called objects. \n",
        "\n",
        "A typical object consists of two parts: data and methods. An object’s data consists of its instance variables.\n",
        "\n",
        "![image.png](data:image/png;base64,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)"
      ]
    },
    {
      "cell_type": "markdown",
      "metadata": {
        "id": "Co55Yxaw0C8j"
      },
      "source": [
        "* object is an expression that represents object. \n",
        "* The period, pronounced dot, associates an object expression with the method to be called.\n",
        "* methodname is the name of the method to execute."
      ]
    },
    {
      "cell_type": "code",
      "metadata": {
        "id": "NzBMTo7LlU39"
      },
      "source": [
        "name = input(\"Please enter your name: \")\n",
        "print(\"Hello \" + name.upper() + \", how are you?\")"
      ],
      "execution_count": null,
      "outputs": []
    },
    {
      "cell_type": "markdown",
      "metadata": {
        "id": "2bT8W8M61DRg"
      },
      "source": [
        "#### Classes are object constructors and are a fundamental component of object oriented programming in Python. They are composed of a set of functions that define the class and it's operations."
      ]
    },
    {
      "cell_type": "code",
      "metadata": {
        "id": "IiAYTm7z0k4G"
      },
      "source": [
        "# Creating the class\n",
        "#The init function is used when an instance of the class is initialized.\n",
        "class Pet(object):\n",
        "    \"\"\"Class object for a pet.\"\"\"\n",
        "    def __init__(self, species, name):\n",
        "        \"\"\"Initialize a Pet.\"\"\"\n",
        "        self.species = species\n",
        "        self.name = name"
      ],
      "execution_count": null,
      "outputs": []
    },
    {
      "cell_type": "code",
      "metadata": {
        "id": "cefy9yBr1Nit"
      },
      "source": [
        "# Creating an instance of a class\n",
        "my_dog = Pet(species=\"dog\", \n",
        "             name=\"Scooby\")"
      ],
      "execution_count": null,
      "outputs": []
    },
    {
      "cell_type": "code",
      "metadata": {
        "id": "Umiakwg7Y_Wu"
      },
      "source": [
        "print (my_dog)\n",
        "print (my_dog.name)"
      ],
      "execution_count": null,
      "outputs": []
    },
    {
      "cell_type": "code",
      "metadata": {
        "id": "PvKDrQnBbmzA"
      },
      "source": [
        ""
      ],
      "execution_count": null,
      "outputs": []
    },
    {
      "cell_type": "markdown",
      "metadata": {
        "id": "-IU15vVc-3qS"
      },
      "source": [
        "#### **(iv) Python expressions and operators; arithmetic(unary and binary), relational and logical**"
      ]
    },
    {
      "cell_type": "markdown",
      "metadata": {
        "id": "It_EqV5l7nnK"
      },
      "source": [
        " A literal value like 50 and a variable like 'f' are examples of simple expressions. We can use operators to\n",
        "combine values and variables and form more complex expressions."
      ]
    },
    {
      "cell_type": "markdown",
      "metadata": {
        "id": "jaMncKMp8ZcI"
      },
      "source": [
        "**Expression:**\n",
        "x + y\n",
        "\n",
        "**Meaning:**\n",
        "x added to y, if x and y are numbers\n",
        "x concatenated to y, if x and y are strings"
      ]
    },
    {
      "cell_type": "code",
      "metadata": {
        "id": "FxSd_q60_MKH",
        "outputId": "a212b86a-894b-4cd8-fdd8-643b17dd914b",
        "colab": {
          "base_uri": "https://localhost:8080/"
        }
      },
      "source": [
        "p = 5 + 6\n",
        "q = \"get\"+\" \"+\"money\"\n",
        "print(p)\n",
        "print(q)"
      ],
      "execution_count": 1,
      "outputs": [
        {
          "output_type": "stream",
          "text": [
            "11\n",
            "get money\n"
          ],
          "name": "stdout"
        }
      ]
    },
    {
      "cell_type": "markdown",
      "metadata": {
        "id": "tuO3GxW59MRs"
      },
      "source": [
        "**Expression:**\n",
        "x - y\n",
        "\n",
        "**Meaning:**\n",
        "x take away y, if x and y are numbers"
      ]
    },
    {
      "cell_type": "code",
      "metadata": {
        "id": "kU0KIS9g9VWg"
      },
      "source": [
        "p = 13 - 5\n",
        "print(p)"
      ],
      "execution_count": null,
      "outputs": []
    },
    {
      "cell_type": "markdown",
      "metadata": {
        "id": "gewkMyVf9c1w"
      },
      "source": [
        "**Expression:**\n",
        "x * y\n",
        "\n",
        "**Meaning:**\n",
        "x times y, if x and y are numbers\n",
        "x concatenated with itself y times, if x is a string and y is an integer\n",
        "y concatenated with itself x times, if y is a string and x is an integer"
      ]
    },
    {
      "cell_type": "code",
      "metadata": {
        "id": "CwJ6l8Y09sSM",
        "outputId": "0ddda50b-54e3-4d72-8135-06cc2ab56c43",
        "colab": {
          "base_uri": "https://localhost:8080/"
        }
      },
      "source": [
        "p = 3 * 4\n",
        "q = \"life\"*5\n",
        "print(p)\n",
        "print(q)"
      ],
      "execution_count": 2,
      "outputs": [
        {
          "output_type": "stream",
          "text": [
            "12\n",
            "lifelifelifelifelife\n"
          ],
          "name": "stdout"
        }
      ]
    },
    {
      "cell_type": "markdown",
      "metadata": {
        "id": "nkKoXCys-Mew"
      },
      "source": [
        "\n",
        "**Expression:**\n",
        "x / y\n",
        "\n",
        "**Meaning:**\n",
        "x divided by y, if x and y are numbers\n",
        "\n",
        "**Expression:**\n",
        "x // y\n",
        "\n",
        "**Meaning:**\n",
        "Floor of x divided by y, if x and y are numbers\n",
        "\n",
        "**Expression:**\n",
        "x % y\n",
        "\n",
        "**Meaning:**\n",
        "Remainder of x divided by y, if x and y are numbers\n",
        "\n",
        "**Expression:**\n",
        "x ** y\n",
        "\n",
        "**Meaning:**\n",
        "x raised to y power, if x and y are numbers"
      ]
    },
    {
      "cell_type": "code",
      "metadata": {
        "id": "CDOAFow4-96F",
        "outputId": "e08ee984-1528-4428-f7ff-a5301e0554ac",
        "colab": {
          "base_uri": "https://localhost:8080/"
        }
      },
      "source": [
        "p = 12 / 3\n",
        "q = 13 // 2\n",
        "r = 19 % 3\n",
        "s = 2 ** 8\n",
        "print(p)\n",
        "print(q)\n",
        "print(r)\n",
        "print(s)"
      ],
      "execution_count": 4,
      "outputs": [
        {
          "output_type": "stream",
          "text": [
            "4.0\n",
            "6\n",
            "1\n",
            "256\n"
          ],
          "name": "stdout"
        }
      ]
    },
    {
      "cell_type": "markdown",
      "metadata": {
        "id": "Av2tHJv0AGZg"
      },
      "source": [
        "**NB: The process of discarding the fractional part of a number leaving only the whole number part is called truncation. Truncation is not rounding; for example, 13 divided by 5 is 2.6, but 2.6 truncates to 2.** "
      ]
    },
    {
      "cell_type": "markdown",
      "metadata": {
        "id": "1lpWv402Aah_"
      },
      "source": [
        "![image.png](data:image/png;base64,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)"
      ]
    },
    {
      "cell_type": "markdown",
      "metadata": {
        "id": "1Mn3S6ppBJIY"
      },
      "source": [
        "#### **Operators**\n",
        "A comparison operator is an operator that performs some form of test and returns True or False.\n",
        "\n",
        "![image.png](data:image/png;base64,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)"
      ]
    },
    {
      "cell_type": "markdown",
      "metadata": {
        "id": "tXtFG0_qBwZ1"
      },
      "source": [
        "Logical operators can be used to combined Boolean expressions together.\n",
        "\n",
        "![image.png](data:image/png;base64,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)\n",
        "\n",
        "Read more on: Operators, types of operators and operator precedence."
      ]
    },
    {
      "cell_type": "code",
      "metadata": {
        "id": "mBhiVOKJAP_7"
      },
      "source": [
        ""
      ],
      "execution_count": null,
      "outputs": []
    },
    {
      "cell_type": "markdown",
      "metadata": {
        "id": "tOGRoKjpEecW"
      },
      "source": [
        "#### **(v) Python Conditional Statements: if, if-else, if-elif-else**"
      ]
    },
    {
      "cell_type": "markdown",
      "metadata": {
        "id": "Wwq-pMntFJdy"
      },
      "source": [
        "#### if (condition-evaluating-to-boolean):\n",
        "#### statement\n",
        "\n",
        "![image.png](data:image/png;base64,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)"
      ]
    },
    {
      "cell_type": "code",
      "metadata": {
        "id": "amqgH2hbFrW5"
      },
      "source": [
        "num = 5\n",
        "if num != 5:\n",
        "   print(\"I told you..\")"
      ],
      "execution_count": 8,
      "outputs": []
    },
    {
      "cell_type": "code",
      "metadata": {
        "id": "ETnGtm1YE0Rv",
        "outputId": "59565b7e-f983-438c-8239-173d9fef7033",
        "colab": {
          "base_uri": "https://localhost:8080/"
        }
      },
      "source": [
        "num = int(input('Enter another number: '))\n",
        "if num > 0:\n",
        "   print(num, 'is positive')\n",
        "   print(num, 'squared is ', num * num)\n",
        "   print('Bye')"
      ],
      "execution_count": 6,
      "outputs": [
        {
          "output_type": "stream",
          "text": [
            "Enter another number: 4\n",
            "4 is positive\n",
            "4 squared is  16\n",
            "Bye\n"
          ],
          "name": "stdout"
        }
      ]
    },
    {
      "cell_type": "markdown",
      "metadata": {
        "id": "3IQfMztbIcs3"
      },
      "source": [
        "#### if (condition-evaluating-to-boolean):\n",
        "#### statement\n",
        "#### else:\n",
        "#### statement\n",
        "\n",
        "![image.png](data:image/png;base64,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)"
      ]
    },
    {
      "cell_type": "code",
      "metadata": {
        "id": "iWte2cLwIXGJ"
      },
      "source": [
        "num = int(input('Enter yet another number: '))\n",
        "if num < 0:\n",
        "   print('Its negative')\n",
        "else:\n",
        "   print('Its not negative')"
      ],
      "execution_count": null,
      "outputs": []
    },
    {
      "cell_type": "markdown",
      "metadata": {
        "id": "wCCo4RbcHP1F"
      },
      "source": [
        "#### if (condition-evaluating-to-boolean):\n",
        "#### statement\n",
        "#### elif (condition-evaluating-to-boolean):\n",
        "#### statement\n",
        "#### else:\n",
        "#### statement\n",
        "\n",
        "![image.png](data:image/png;base64,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)\n"
      ]
    },
    {
      "cell_type": "code",
      "metadata": {
        "id": "8Us2FSdSHz2V",
        "outputId": "a81d7a91-8eb5-4ac4-ff0e-38a12358d056",
        "colab": {
          "base_uri": "https://localhost:8080/"
        }
      },
      "source": [
        "number = 5\n",
        "if number > 2:\n",
        "   print(\"Number is bigger than 2.\")\n",
        "elif number < 2: # Optional clause (you can have multiple elifs)\n",
        "   print(\"Number is smaller than 2.\")\n",
        "else: # Optional clause (you can only have one else)\n",
        "   print(\"Number is 2.\")"
      ],
      "execution_count": 9,
      "outputs": [
        {
          "output_type": "stream",
          "text": [
            "Number is bigger than 2.\n"
          ],
          "name": "stdout"
        }
      ]
    },
    {
      "cell_type": "code",
      "metadata": {
        "id": "LqpAPCPMK41c"
      },
      "source": [
        "num = int(input(\"Enter a number: \"))\n",
        "if num == 1:\n",
        "   print(\"You entered one\")\n",
        "elif num == 2:\n",
        "   print(\"You entered two\")\n",
        "elif num > 5:\n",
        "   print(\"You entered a number greater than five\")\n",
        "elif num == 7:\n",
        "   print(\"You entered seven\")\n",
        "else:\n",
        "   print(\"You entered some other number\")"
      ],
      "execution_count": null,
      "outputs": []
    },
    {
      "cell_type": "code",
      "metadata": {
        "id": "qMYfUe_WK997"
      },
      "source": [
        "num = 14\n",
        "if(num < 20 or num > 10):\n",
        "  print(\"The number is between 10 and 20\")"
      ],
      "execution_count": null,
      "outputs": []
    },
    {
      "cell_type": "code",
      "metadata": {
        "id": "xgvbAc0fMTJz"
      },
      "source": [
        "num = 20\n",
        "if(num > 10 and num <30):\n",
        "  print(\"The number is within range\")"
      ],
      "execution_count": null,
      "outputs": []
    },
    {
      "cell_type": "code",
      "metadata": {
        "id": "4iHPGnMfOHlr"
      },
      "source": [
        "age = 15\n",
        "status = None\n",
        "if (age > 12) and age < 20:\n",
        "status = 'teenager'\n",
        "else:\n",
        "status = 'not teenager'\n",
        "print(status)"
      ],
      "execution_count": null,
      "outputs": []
    },
    {
      "cell_type": "markdown",
      "metadata": {
        "id": "xt-k9_W1M8dL"
      },
      "source": [
        "### **References**\n",
        "1. A Beginners Guide to Python 3 Programming by John Hunt\n",
        "2. Python Notes for Professionals by goalkicker.com\n",
        "3. Fundamentals of Programming Python by Richard L. Halterman"
      ]
    },
    {
      "cell_type": "markdown",
      "metadata": {
        "id": "J8QwEcuMN443"
      },
      "source": [
        "### **Exercises**\n",
        "1. Write a test program to check if a number is odd or even.\n",
        "2. Write a program that asks the user to enter his or her name. The program should respond with a message that says hello to the user, using his or her name.\n",
        "3. Create a program that reads the length and width of a farmer’s field from the user in metres.\n",
        "4. Write a program that determines the name of a shape from its number of sides. Read the number of sides from the user and then report the appropriate name as part of a meaningful message. Your program should support shapes with anywhere from 3 up to (and including) 10 sides. If a number of sides outside of this range is entered then your program should display an appropriate error message."
      ]
    }
  ]
}